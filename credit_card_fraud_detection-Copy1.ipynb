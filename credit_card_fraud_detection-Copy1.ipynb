{
 "cells": [
  {
   "cell_type": "code",
   "execution_count": 1,
   "id": "2c7c96d2",
   "metadata": {},
   "outputs": [],
   "source": [
    "################################################################################\n",
    "#   Basic configuration steps\n",
    "################################################################################\n",
    "\n",
    "#- import basic python packages\n",
    "import warnings\n",
    "import tkinter # to show plot in Pycharm\n",
    "\n",
    "#- import packages for data manipulations\n",
    "import numpy as np\n",
    "import pandas as pd\n",
    "from sklearn.preprocessing import StandardScaler, RobustScaler\n",
    "from imblearn.over_sampling import SMOTE\n",
    "\n",
    "#- import packages for unsupervised machine learning\n",
    "from sklearn.cluster import KMeans, MiniBatchKMeans\n",
    "from sklearn.cluster import DBSCAN\n",
    "from sklearn.decomposition import PCA, SparsePCA\n",
    "from sklearn.manifold import TSNE\n",
    "\n",
    "#- import packages for supervised machine learning\n",
    "from sklearn.model_selection import train_test_split\n",
    "from sklearn.model_selection import GridSearchCV\n",
    "from sklearn.linear_model import LogisticRegression\n",
    "from sklearn.ensemble import RandomForestClassifier\n",
    "from lightgbm import LGBMClassifier\n",
    "from sklearn.feature_selection import RFE\n",
    "\n",
    "#- import packages for model evaluation\n",
    "from sklearn.model_selection import cross_val_score\n",
    "from sklearn.metrics import precision_recall_curve, roc_curve, recall_score, precision_score, average_precision_score\n",
    "from sklearn.metrics import auc, roc_auc_score, classification_report\n",
    "\n",
    "#- import packages for visualizations\n",
    "import seaborn as sns\n",
    "import plotly.express as px\n",
    "import plotly.graph_objects as go\n",
    "from plotly.subplots import make_subplots\n",
    "from plotly.tools import FigureFactory as FF\n",
    "\n",
    "#- packages created\n",
    "from utils import corr_heatmap, tsne_plotting, pca_plotting\n",
    "from utils import model_scores, multiple_roc_curves, create_scores_df, create_prec_recall_df, precision_recall\n",
    "\n",
    "\n",
    "#- configuration steps\n",
    "warnings.simplefilter(action='ignore', category = FutureWarning)\n",
    "palette = sns.color_palette(\"PiYG_r\")\n",
    "sns.set_palette(\"Set3\")"
   ]
  },
  {
   "cell_type": "code",
   "execution_count": 2,
   "id": "8eda50c5",
   "metadata": {},
   "outputs": [
    {
     "name": "stdout",
     "output_type": "stream",
     "text": [
      "We look at a sample of the data: \n",
      "    Time        V1        V2        V3        V4        V5        V6        V7  \\\n",
      "0   0.0 -1.359807 -0.072781  2.536347  1.378155 -0.338321  0.462388  0.239599   \n",
      "1   0.0  1.191857  0.266151  0.166480  0.448154  0.060018 -0.082361 -0.078803   \n",
      "2   1.0 -1.358354 -1.340163  1.773209  0.379780 -0.503198  1.800499  0.791461   \n",
      "3   1.0 -0.966272 -0.185226  1.792993 -0.863291 -0.010309  1.247203  0.237609   \n",
      "4   2.0 -1.158233  0.877737  1.548718  0.403034 -0.407193  0.095921  0.592941   \n",
      "\n",
      "         V8        V9  ...       V21       V22       V23       V24       V25  \\\n",
      "0  0.098698  0.363787  ... -0.018307  0.277838 -0.110474  0.066928  0.128539   \n",
      "1  0.085102 -0.255425  ... -0.225775 -0.638672  0.101288 -0.339846  0.167170   \n",
      "2  0.247676 -1.514654  ...  0.247998  0.771679  0.909412 -0.689281 -0.327642   \n",
      "3  0.377436 -1.387024  ... -0.108300  0.005274 -0.190321 -1.175575  0.647376   \n",
      "4 -0.270533  0.817739  ... -0.009431  0.798278 -0.137458  0.141267 -0.206010   \n",
      "\n",
      "        V26       V27       V28  Amount  Class  \n",
      "0 -0.189115  0.133558 -0.021053  149.62      0  \n",
      "1  0.125895 -0.008983  0.014724    2.69      0  \n",
      "2 -0.139097 -0.055353 -0.059752  378.66      0  \n",
      "3 -0.221929  0.062723  0.061458  123.50      0  \n",
      "4  0.502292  0.219422  0.215153   69.99      0  \n",
      "\n",
      "[5 rows x 31 columns]\n",
      "Shape of the X_train dataset:  (227845, 29)\n",
      "Shape of the y_train dataset:  (227845,)\n"
     ]
    }
   ],
   "source": [
    "################################################################################\n",
    "#   Read CSV data file\n",
    "################################################################################\n",
    "'''\n",
    "- all the features of the data have already been PCA-transformed except 'time' and 'amount'\n",
    "- since all features need to be scaled before PCA is implemented, we can assume that all 'V' features are scaled\n",
    "'''\n",
    "\n",
    "credit_df = pd.read_csv('creditcard.csv')\n",
    "print(\"We look at a sample of the data: \\n\", credit_df.head())\n",
    "\n",
    "#- let us scale the 'time' and 'amount' features using 'RobustScaler' which is less susceptible to outliers\n",
    "#- RobustScaler removes the median and scales the data according to the IQR (i.e. between 1st quartile and 3rd quartile)\n",
    "robust_scaler = RobustScaler()\n",
    "credit_df[\"robustscaled_time\"] = robust_scaler.fit_transform(credit_df[\"Time\"].values.reshape(-1,1))\n",
    "credit_df[\"robustscaled_amount\"] = robust_scaler.fit_transform(credit_df[\"Amount\"].values.reshape(-1,1))\n",
    "credit_df.head()\n",
    "\n",
    "#- we drop some of the columns\n",
    "cols_to_drop = [\"Time\", \"Amount\", \"robustscaled_time\"]\n",
    "X = credit_df.drop(cols_to_drop + [\"Class\"], axis = 1)\n",
    "y = credit_df.loc[:,\"Class\"]\n",
    "\n",
    "X_train, X_test, y_train, y_test = train_test_split(X, y, test_size = 0.2, random_state = 0)\n",
    "print(\"Shape of the X_train dataset: \", X_train.shape)\n",
    "print(\"Shape of the y_train dataset: \", y_train.shape)"
   ]
  },
  {
   "cell_type": "code",
   "execution_count": 3,
   "id": "5d672c4d",
   "metadata": {},
   "outputs": [
    {
     "name": "stdout",
     "output_type": "stream",
     "text": [
      "Minority class proportion: 0.001727485630620034%\n",
      "We are dealing with a highly unbalanced dataset\n"
     ]
    }
   ],
   "source": [
    "################################################################################\n",
    "#   Examine balance of class in dataset\n",
    "################################################################################\n",
    "#- plot a simple bar graph\n",
    "class_counts_df = pd.DataFrame(credit_df.Class.value_counts()).sort_values(by = \"Class\").reset_index(drop = True)\n",
    "class_counts_df[\"Class_name\"] = [\"Minority_class\",\"Majority_class\"]\n",
    "class_counts_df.columns = [\"Count\", \"Class_name\"]\n",
    "\n",
    "#- plot the graphs\n",
    "fig1 = px.bar(class_counts_df, x = \"Class_name\", y = \"Count\", color = \"Class_name\", width = 600)\n",
    "# fig1.show()\n",
    "\n",
    "#- do a check on the actual counts\n",
    "prop_result = class_counts_df.Count.min() / class_counts_df.Count.sum()\n",
    "print(\"Minority class proportion: \" + str(prop_result) + \"%\")\n",
    "if prop_result < 1:\n",
    "    print(\"We are dealing with a highly unbalanced dataset\")\n",
    "else:\n",
    "    print(\"The dataset is not highly unbalanced\")"
   ]
  },
  {
   "cell_type": "code",
   "execution_count": 4,
   "id": "2b67afff",
   "metadata": {},
   "outputs": [
    {
     "name": "stdout",
     "output_type": "stream",
     "text": [
      "Before OverSampling, counts of label 'Minority class' in training dataset: 391\n",
      "Before OverSampling, counts of label 'Majority class' in training dataset: 227454 \n",
      "\n",
      "After OverSampling, counts of label 'Minority class' in training dataset: 227454\n",
      "After OverSampling, counts of label 'Majority class' in training dataset: 227454 \n",
      "\n"
     ]
    }
   ],
   "source": [
    "################################################################################\n",
    "#   apply SMOTE technique to over-sample the minority class\n",
    "################################################################################\n",
    "\n",
    "#=== NOTE1: we apply SMOTE first, then apply train_test_split; apply SMOTE on training data only\n",
    "#=== NOTE2: we apply SMOTE first, then execute cross-validation later\n",
    "\n",
    "#- we have an unbalanced training dataset\n",
    "print(\"Before OverSampling, counts of label 'Minority class' in training dataset: {}\".format(sum(y_train == 1)))\n",
    "print(\"Before OverSampling, counts of label 'Majority class' in training dataset: {} \\n\".format(sum(y_train == 0)))\n",
    "\n",
    "\n",
    "#- we now implement the SMOTE technique\n",
    "#- note that we need to ensure that \"y_train\" is continuous; so we use the \"ravel\" method to do that\n",
    "smote = SMOTE(random_state = 88)\n",
    "X_train_oversample, y_train_oversample = smote.fit_resample(X_train, y_train.ravel())\n",
    "\n",
    "#- we now have a balanced training dataset\n",
    "print(\"After OverSampling, counts of label 'Minority class' in training dataset: {}\".format(sum(y_train_oversample == 1)))\n",
    "print(\"After OverSampling, counts of label 'Majority class' in training dataset: {} \\n\".format(sum(y_train_oversample == 0)))"
   ]
  },
  {
   "cell_type": "code",
   "execution_count": 7,
   "id": "986c6e40",
   "metadata": {},
   "outputs": [
    {
     "data": {
      "application/vnd.plotly.v1+json": {
       "config": {
        "plotlyServerURL": "https://plot.ly"
       },
       "data": [
        {
         "alignmentgroup": "True",
         "hovertemplate": "Class_name=%{x}<br>Count=%{y}<extra></extra>",
         "legendgroup": "Minority_class",
         "marker": {
          "color": "#636efa",
          "pattern": {
           "shape": ""
          }
         },
         "name": "Minority_class",
         "offsetgroup": "Minority_class",
         "orientation": "v",
         "showlegend": true,
         "textposition": "auto",
         "type": "bar",
         "x": [
          "Minority_class"
         ],
         "xaxis": "x",
         "y": [
          227454
         ],
         "yaxis": "y"
        },
        {
         "alignmentgroup": "True",
         "hovertemplate": "Class_name=%{x}<br>Count=%{y}<extra></extra>",
         "legendgroup": "Majority_class",
         "marker": {
          "color": "#EF553B",
          "pattern": {
           "shape": ""
          }
         },
         "name": "Majority_class",
         "offsetgroup": "Majority_class",
         "orientation": "v",
         "showlegend": true,
         "textposition": "auto",
         "type": "bar",
         "x": [
          "Majority_class"
         ],
         "xaxis": "x",
         "y": [
          227454
         ],
         "yaxis": "y"
        }
       ],
       "layout": {
        "barmode": "relative",
        "legend": {
         "title": {
          "text": "Class_name"
         },
         "tracegroupgap": 0
        },
        "margin": {
         "t": 60
        },
        "template": {
         "data": {
          "bar": [
           {
            "error_x": {
             "color": "#2a3f5f"
            },
            "error_y": {
             "color": "#2a3f5f"
            },
            "marker": {
             "line": {
              "color": "#E5ECF6",
              "width": 0.5
             },
             "pattern": {
              "fillmode": "overlay",
              "size": 10,
              "solidity": 0.2
             }
            },
            "type": "bar"
           }
          ],
          "barpolar": [
           {
            "marker": {
             "line": {
              "color": "#E5ECF6",
              "width": 0.5
             },
             "pattern": {
              "fillmode": "overlay",
              "size": 10,
              "solidity": 0.2
             }
            },
            "type": "barpolar"
           }
          ],
          "carpet": [
           {
            "aaxis": {
             "endlinecolor": "#2a3f5f",
             "gridcolor": "white",
             "linecolor": "white",
             "minorgridcolor": "white",
             "startlinecolor": "#2a3f5f"
            },
            "baxis": {
             "endlinecolor": "#2a3f5f",
             "gridcolor": "white",
             "linecolor": "white",
             "minorgridcolor": "white",
             "startlinecolor": "#2a3f5f"
            },
            "type": "carpet"
           }
          ],
          "choropleth": [
           {
            "colorbar": {
             "outlinewidth": 0,
             "ticks": ""
            },
            "type": "choropleth"
           }
          ],
          "contour": [
           {
            "colorbar": {
             "outlinewidth": 0,
             "ticks": ""
            },
            "colorscale": [
             [
              0,
              "#0d0887"
             ],
             [
              0.1111111111111111,
              "#46039f"
             ],
             [
              0.2222222222222222,
              "#7201a8"
             ],
             [
              0.3333333333333333,
              "#9c179e"
             ],
             [
              0.4444444444444444,
              "#bd3786"
             ],
             [
              0.5555555555555556,
              "#d8576b"
             ],
             [
              0.6666666666666666,
              "#ed7953"
             ],
             [
              0.7777777777777778,
              "#fb9f3a"
             ],
             [
              0.8888888888888888,
              "#fdca26"
             ],
             [
              1,
              "#f0f921"
             ]
            ],
            "type": "contour"
           }
          ],
          "contourcarpet": [
           {
            "colorbar": {
             "outlinewidth": 0,
             "ticks": ""
            },
            "type": "contourcarpet"
           }
          ],
          "heatmap": [
           {
            "colorbar": {
             "outlinewidth": 0,
             "ticks": ""
            },
            "colorscale": [
             [
              0,
              "#0d0887"
             ],
             [
              0.1111111111111111,
              "#46039f"
             ],
             [
              0.2222222222222222,
              "#7201a8"
             ],
             [
              0.3333333333333333,
              "#9c179e"
             ],
             [
              0.4444444444444444,
              "#bd3786"
             ],
             [
              0.5555555555555556,
              "#d8576b"
             ],
             [
              0.6666666666666666,
              "#ed7953"
             ],
             [
              0.7777777777777778,
              "#fb9f3a"
             ],
             [
              0.8888888888888888,
              "#fdca26"
             ],
             [
              1,
              "#f0f921"
             ]
            ],
            "type": "heatmap"
           }
          ],
          "heatmapgl": [
           {
            "colorbar": {
             "outlinewidth": 0,
             "ticks": ""
            },
            "colorscale": [
             [
              0,
              "#0d0887"
             ],
             [
              0.1111111111111111,
              "#46039f"
             ],
             [
              0.2222222222222222,
              "#7201a8"
             ],
             [
              0.3333333333333333,
              "#9c179e"
             ],
             [
              0.4444444444444444,
              "#bd3786"
             ],
             [
              0.5555555555555556,
              "#d8576b"
             ],
             [
              0.6666666666666666,
              "#ed7953"
             ],
             [
              0.7777777777777778,
              "#fb9f3a"
             ],
             [
              0.8888888888888888,
              "#fdca26"
             ],
             [
              1,
              "#f0f921"
             ]
            ],
            "type": "heatmapgl"
           }
          ],
          "histogram": [
           {
            "marker": {
             "pattern": {
              "fillmode": "overlay",
              "size": 10,
              "solidity": 0.2
             }
            },
            "type": "histogram"
           }
          ],
          "histogram2d": [
           {
            "colorbar": {
             "outlinewidth": 0,
             "ticks": ""
            },
            "colorscale": [
             [
              0,
              "#0d0887"
             ],
             [
              0.1111111111111111,
              "#46039f"
             ],
             [
              0.2222222222222222,
              "#7201a8"
             ],
             [
              0.3333333333333333,
              "#9c179e"
             ],
             [
              0.4444444444444444,
              "#bd3786"
             ],
             [
              0.5555555555555556,
              "#d8576b"
             ],
             [
              0.6666666666666666,
              "#ed7953"
             ],
             [
              0.7777777777777778,
              "#fb9f3a"
             ],
             [
              0.8888888888888888,
              "#fdca26"
             ],
             [
              1,
              "#f0f921"
             ]
            ],
            "type": "histogram2d"
           }
          ],
          "histogram2dcontour": [
           {
            "colorbar": {
             "outlinewidth": 0,
             "ticks": ""
            },
            "colorscale": [
             [
              0,
              "#0d0887"
             ],
             [
              0.1111111111111111,
              "#46039f"
             ],
             [
              0.2222222222222222,
              "#7201a8"
             ],
             [
              0.3333333333333333,
              "#9c179e"
             ],
             [
              0.4444444444444444,
              "#bd3786"
             ],
             [
              0.5555555555555556,
              "#d8576b"
             ],
             [
              0.6666666666666666,
              "#ed7953"
             ],
             [
              0.7777777777777778,
              "#fb9f3a"
             ],
             [
              0.8888888888888888,
              "#fdca26"
             ],
             [
              1,
              "#f0f921"
             ]
            ],
            "type": "histogram2dcontour"
           }
          ],
          "mesh3d": [
           {
            "colorbar": {
             "outlinewidth": 0,
             "ticks": ""
            },
            "type": "mesh3d"
           }
          ],
          "parcoords": [
           {
            "line": {
             "colorbar": {
              "outlinewidth": 0,
              "ticks": ""
             }
            },
            "type": "parcoords"
           }
          ],
          "pie": [
           {
            "automargin": true,
            "type": "pie"
           }
          ],
          "scatter": [
           {
            "marker": {
             "colorbar": {
              "outlinewidth": 0,
              "ticks": ""
             }
            },
            "type": "scatter"
           }
          ],
          "scatter3d": [
           {
            "line": {
             "colorbar": {
              "outlinewidth": 0,
              "ticks": ""
             }
            },
            "marker": {
             "colorbar": {
              "outlinewidth": 0,
              "ticks": ""
             }
            },
            "type": "scatter3d"
           }
          ],
          "scattercarpet": [
           {
            "marker": {
             "colorbar": {
              "outlinewidth": 0,
              "ticks": ""
             }
            },
            "type": "scattercarpet"
           }
          ],
          "scattergeo": [
           {
            "marker": {
             "colorbar": {
              "outlinewidth": 0,
              "ticks": ""
             }
            },
            "type": "scattergeo"
           }
          ],
          "scattergl": [
           {
            "marker": {
             "colorbar": {
              "outlinewidth": 0,
              "ticks": ""
             }
            },
            "type": "scattergl"
           }
          ],
          "scattermapbox": [
           {
            "marker": {
             "colorbar": {
              "outlinewidth": 0,
              "ticks": ""
             }
            },
            "type": "scattermapbox"
           }
          ],
          "scatterpolar": [
           {
            "marker": {
             "colorbar": {
              "outlinewidth": 0,
              "ticks": ""
             }
            },
            "type": "scatterpolar"
           }
          ],
          "scatterpolargl": [
           {
            "marker": {
             "colorbar": {
              "outlinewidth": 0,
              "ticks": ""
             }
            },
            "type": "scatterpolargl"
           }
          ],
          "scatterternary": [
           {
            "marker": {
             "colorbar": {
              "outlinewidth": 0,
              "ticks": ""
             }
            },
            "type": "scatterternary"
           }
          ],
          "surface": [
           {
            "colorbar": {
             "outlinewidth": 0,
             "ticks": ""
            },
            "colorscale": [
             [
              0,
              "#0d0887"
             ],
             [
              0.1111111111111111,
              "#46039f"
             ],
             [
              0.2222222222222222,
              "#7201a8"
             ],
             [
              0.3333333333333333,
              "#9c179e"
             ],
             [
              0.4444444444444444,
              "#bd3786"
             ],
             [
              0.5555555555555556,
              "#d8576b"
             ],
             [
              0.6666666666666666,
              "#ed7953"
             ],
             [
              0.7777777777777778,
              "#fb9f3a"
             ],
             [
              0.8888888888888888,
              "#fdca26"
             ],
             [
              1,
              "#f0f921"
             ]
            ],
            "type": "surface"
           }
          ],
          "table": [
           {
            "cells": {
             "fill": {
              "color": "#EBF0F8"
             },
             "line": {
              "color": "white"
             }
            },
            "header": {
             "fill": {
              "color": "#C8D4E3"
             },
             "line": {
              "color": "white"
             }
            },
            "type": "table"
           }
          ]
         },
         "layout": {
          "annotationdefaults": {
           "arrowcolor": "#2a3f5f",
           "arrowhead": 0,
           "arrowwidth": 1
          },
          "autotypenumbers": "strict",
          "coloraxis": {
           "colorbar": {
            "outlinewidth": 0,
            "ticks": ""
           }
          },
          "colorscale": {
           "diverging": [
            [
             0,
             "#8e0152"
            ],
            [
             0.1,
             "#c51b7d"
            ],
            [
             0.2,
             "#de77ae"
            ],
            [
             0.3,
             "#f1b6da"
            ],
            [
             0.4,
             "#fde0ef"
            ],
            [
             0.5,
             "#f7f7f7"
            ],
            [
             0.6,
             "#e6f5d0"
            ],
            [
             0.7,
             "#b8e186"
            ],
            [
             0.8,
             "#7fbc41"
            ],
            [
             0.9,
             "#4d9221"
            ],
            [
             1,
             "#276419"
            ]
           ],
           "sequential": [
            [
             0,
             "#0d0887"
            ],
            [
             0.1111111111111111,
             "#46039f"
            ],
            [
             0.2222222222222222,
             "#7201a8"
            ],
            [
             0.3333333333333333,
             "#9c179e"
            ],
            [
             0.4444444444444444,
             "#bd3786"
            ],
            [
             0.5555555555555556,
             "#d8576b"
            ],
            [
             0.6666666666666666,
             "#ed7953"
            ],
            [
             0.7777777777777778,
             "#fb9f3a"
            ],
            [
             0.8888888888888888,
             "#fdca26"
            ],
            [
             1,
             "#f0f921"
            ]
           ],
           "sequentialminus": [
            [
             0,
             "#0d0887"
            ],
            [
             0.1111111111111111,
             "#46039f"
            ],
            [
             0.2222222222222222,
             "#7201a8"
            ],
            [
             0.3333333333333333,
             "#9c179e"
            ],
            [
             0.4444444444444444,
             "#bd3786"
            ],
            [
             0.5555555555555556,
             "#d8576b"
            ],
            [
             0.6666666666666666,
             "#ed7953"
            ],
            [
             0.7777777777777778,
             "#fb9f3a"
            ],
            [
             0.8888888888888888,
             "#fdca26"
            ],
            [
             1,
             "#f0f921"
            ]
           ]
          },
          "colorway": [
           "#636efa",
           "#EF553B",
           "#00cc96",
           "#ab63fa",
           "#FFA15A",
           "#19d3f3",
           "#FF6692",
           "#B6E880",
           "#FF97FF",
           "#FECB52"
          ],
          "font": {
           "color": "#2a3f5f"
          },
          "geo": {
           "bgcolor": "white",
           "lakecolor": "white",
           "landcolor": "#E5ECF6",
           "showlakes": true,
           "showland": true,
           "subunitcolor": "white"
          },
          "hoverlabel": {
           "align": "left"
          },
          "hovermode": "closest",
          "mapbox": {
           "style": "light"
          },
          "paper_bgcolor": "white",
          "plot_bgcolor": "#E5ECF6",
          "polar": {
           "angularaxis": {
            "gridcolor": "white",
            "linecolor": "white",
            "ticks": ""
           },
           "bgcolor": "#E5ECF6",
           "radialaxis": {
            "gridcolor": "white",
            "linecolor": "white",
            "ticks": ""
           }
          },
          "scene": {
           "xaxis": {
            "backgroundcolor": "#E5ECF6",
            "gridcolor": "white",
            "gridwidth": 2,
            "linecolor": "white",
            "showbackground": true,
            "ticks": "",
            "zerolinecolor": "white"
           },
           "yaxis": {
            "backgroundcolor": "#E5ECF6",
            "gridcolor": "white",
            "gridwidth": 2,
            "linecolor": "white",
            "showbackground": true,
            "ticks": "",
            "zerolinecolor": "white"
           },
           "zaxis": {
            "backgroundcolor": "#E5ECF6",
            "gridcolor": "white",
            "gridwidth": 2,
            "linecolor": "white",
            "showbackground": true,
            "ticks": "",
            "zerolinecolor": "white"
           }
          },
          "shapedefaults": {
           "line": {
            "color": "#2a3f5f"
           }
          },
          "ternary": {
           "aaxis": {
            "gridcolor": "white",
            "linecolor": "white",
            "ticks": ""
           },
           "baxis": {
            "gridcolor": "white",
            "linecolor": "white",
            "ticks": ""
           },
           "bgcolor": "#E5ECF6",
           "caxis": {
            "gridcolor": "white",
            "linecolor": "white",
            "ticks": ""
           }
          },
          "title": {
           "x": 0.05
          },
          "xaxis": {
           "automargin": true,
           "gridcolor": "white",
           "linecolor": "white",
           "ticks": "",
           "title": {
            "standoff": 15
           },
           "zerolinecolor": "white",
           "zerolinewidth": 2
          },
          "yaxis": {
           "automargin": true,
           "gridcolor": "white",
           "linecolor": "white",
           "ticks": "",
           "title": {
            "standoff": 15
           },
           "zerolinecolor": "white",
           "zerolinewidth": 2
          }
         }
        },
        "width": 600,
        "xaxis": {
         "anchor": "y",
         "categoryarray": [
          "Minority_class",
          "Majority_class"
         ],
         "categoryorder": "array",
         "domain": [
          0,
          1
         ],
         "title": {
          "text": "Class_name"
         }
        },
        "yaxis": {
         "anchor": "x",
         "domain": [
          0,
          1
         ],
         "title": {
          "text": "Count"
         }
        }
       }
      },
      "text/html": [
       "<div>                            <div id=\"0ea78e6a-821d-4d26-add8-2388cc92ef29\" class=\"plotly-graph-div\" style=\"height:525px; width:600px;\"></div>            <script type=\"text/javascript\">                require([\"plotly\"], function(Plotly) {                    window.PLOTLYENV=window.PLOTLYENV || {};                                    if (document.getElementById(\"0ea78e6a-821d-4d26-add8-2388cc92ef29\")) {                    Plotly.newPlot(                        \"0ea78e6a-821d-4d26-add8-2388cc92ef29\",                        [{\"alignmentgroup\":\"True\",\"hovertemplate\":\"Class_name=%{x}<br>Count=%{y}<extra></extra>\",\"legendgroup\":\"Minority_class\",\"marker\":{\"color\":\"#636efa\",\"pattern\":{\"shape\":\"\"}},\"name\":\"Minority_class\",\"offsetgroup\":\"Minority_class\",\"orientation\":\"v\",\"showlegend\":true,\"textposition\":\"auto\",\"type\":\"bar\",\"x\":[\"Minority_class\"],\"xaxis\":\"x\",\"y\":[227454],\"yaxis\":\"y\"},{\"alignmentgroup\":\"True\",\"hovertemplate\":\"Class_name=%{x}<br>Count=%{y}<extra></extra>\",\"legendgroup\":\"Majority_class\",\"marker\":{\"color\":\"#EF553B\",\"pattern\":{\"shape\":\"\"}},\"name\":\"Majority_class\",\"offsetgroup\":\"Majority_class\",\"orientation\":\"v\",\"showlegend\":true,\"textposition\":\"auto\",\"type\":\"bar\",\"x\":[\"Majority_class\"],\"xaxis\":\"x\",\"y\":[227454],\"yaxis\":\"y\"}],                        {\"barmode\":\"relative\",\"legend\":{\"title\":{\"text\":\"Class_name\"},\"tracegroupgap\":0},\"margin\":{\"t\":60},\"template\":{\"data\":{\"bar\":[{\"error_x\":{\"color\":\"#2a3f5f\"},\"error_y\":{\"color\":\"#2a3f5f\"},\"marker\":{\"line\":{\"color\":\"#E5ECF6\",\"width\":0.5},\"pattern\":{\"fillmode\":\"overlay\",\"size\":10,\"solidity\":0.2}},\"type\":\"bar\"}],\"barpolar\":[{\"marker\":{\"line\":{\"color\":\"#E5ECF6\",\"width\":0.5},\"pattern\":{\"fillmode\":\"overlay\",\"size\":10,\"solidity\":0.2}},\"type\":\"barpolar\"}],\"carpet\":[{\"aaxis\":{\"endlinecolor\":\"#2a3f5f\",\"gridcolor\":\"white\",\"linecolor\":\"white\",\"minorgridcolor\":\"white\",\"startlinecolor\":\"#2a3f5f\"},\"baxis\":{\"endlinecolor\":\"#2a3f5f\",\"gridcolor\":\"white\",\"linecolor\":\"white\",\"minorgridcolor\":\"white\",\"startlinecolor\":\"#2a3f5f\"},\"type\":\"carpet\"}],\"choropleth\":[{\"colorbar\":{\"outlinewidth\":0,\"ticks\":\"\"},\"type\":\"choropleth\"}],\"contour\":[{\"colorbar\":{\"outlinewidth\":0,\"ticks\":\"\"},\"colorscale\":[[0.0,\"#0d0887\"],[0.1111111111111111,\"#46039f\"],[0.2222222222222222,\"#7201a8\"],[0.3333333333333333,\"#9c179e\"],[0.4444444444444444,\"#bd3786\"],[0.5555555555555556,\"#d8576b\"],[0.6666666666666666,\"#ed7953\"],[0.7777777777777778,\"#fb9f3a\"],[0.8888888888888888,\"#fdca26\"],[1.0,\"#f0f921\"]],\"type\":\"contour\"}],\"contourcarpet\":[{\"colorbar\":{\"outlinewidth\":0,\"ticks\":\"\"},\"type\":\"contourcarpet\"}],\"heatmap\":[{\"colorbar\":{\"outlinewidth\":0,\"ticks\":\"\"},\"colorscale\":[[0.0,\"#0d0887\"],[0.1111111111111111,\"#46039f\"],[0.2222222222222222,\"#7201a8\"],[0.3333333333333333,\"#9c179e\"],[0.4444444444444444,\"#bd3786\"],[0.5555555555555556,\"#d8576b\"],[0.6666666666666666,\"#ed7953\"],[0.7777777777777778,\"#fb9f3a\"],[0.8888888888888888,\"#fdca26\"],[1.0,\"#f0f921\"]],\"type\":\"heatmap\"}],\"heatmapgl\":[{\"colorbar\":{\"outlinewidth\":0,\"ticks\":\"\"},\"colorscale\":[[0.0,\"#0d0887\"],[0.1111111111111111,\"#46039f\"],[0.2222222222222222,\"#7201a8\"],[0.3333333333333333,\"#9c179e\"],[0.4444444444444444,\"#bd3786\"],[0.5555555555555556,\"#d8576b\"],[0.6666666666666666,\"#ed7953\"],[0.7777777777777778,\"#fb9f3a\"],[0.8888888888888888,\"#fdca26\"],[1.0,\"#f0f921\"]],\"type\":\"heatmapgl\"}],\"histogram\":[{\"marker\":{\"pattern\":{\"fillmode\":\"overlay\",\"size\":10,\"solidity\":0.2}},\"type\":\"histogram\"}],\"histogram2d\":[{\"colorbar\":{\"outlinewidth\":0,\"ticks\":\"\"},\"colorscale\":[[0.0,\"#0d0887\"],[0.1111111111111111,\"#46039f\"],[0.2222222222222222,\"#7201a8\"],[0.3333333333333333,\"#9c179e\"],[0.4444444444444444,\"#bd3786\"],[0.5555555555555556,\"#d8576b\"],[0.6666666666666666,\"#ed7953\"],[0.7777777777777778,\"#fb9f3a\"],[0.8888888888888888,\"#fdca26\"],[1.0,\"#f0f921\"]],\"type\":\"histogram2d\"}],\"histogram2dcontour\":[{\"colorbar\":{\"outlinewidth\":0,\"ticks\":\"\"},\"colorscale\":[[0.0,\"#0d0887\"],[0.1111111111111111,\"#46039f\"],[0.2222222222222222,\"#7201a8\"],[0.3333333333333333,\"#9c179e\"],[0.4444444444444444,\"#bd3786\"],[0.5555555555555556,\"#d8576b\"],[0.6666666666666666,\"#ed7953\"],[0.7777777777777778,\"#fb9f3a\"],[0.8888888888888888,\"#fdca26\"],[1.0,\"#f0f921\"]],\"type\":\"histogram2dcontour\"}],\"mesh3d\":[{\"colorbar\":{\"outlinewidth\":0,\"ticks\":\"\"},\"type\":\"mesh3d\"}],\"parcoords\":[{\"line\":{\"colorbar\":{\"outlinewidth\":0,\"ticks\":\"\"}},\"type\":\"parcoords\"}],\"pie\":[{\"automargin\":true,\"type\":\"pie\"}],\"scatter\":[{\"marker\":{\"colorbar\":{\"outlinewidth\":0,\"ticks\":\"\"}},\"type\":\"scatter\"}],\"scatter3d\":[{\"line\":{\"colorbar\":{\"outlinewidth\":0,\"ticks\":\"\"}},\"marker\":{\"colorbar\":{\"outlinewidth\":0,\"ticks\":\"\"}},\"type\":\"scatter3d\"}],\"scattercarpet\":[{\"marker\":{\"colorbar\":{\"outlinewidth\":0,\"ticks\":\"\"}},\"type\":\"scattercarpet\"}],\"scattergeo\":[{\"marker\":{\"colorbar\":{\"outlinewidth\":0,\"ticks\":\"\"}},\"type\":\"scattergeo\"}],\"scattergl\":[{\"marker\":{\"colorbar\":{\"outlinewidth\":0,\"ticks\":\"\"}},\"type\":\"scattergl\"}],\"scattermapbox\":[{\"marker\":{\"colorbar\":{\"outlinewidth\":0,\"ticks\":\"\"}},\"type\":\"scattermapbox\"}],\"scatterpolar\":[{\"marker\":{\"colorbar\":{\"outlinewidth\":0,\"ticks\":\"\"}},\"type\":\"scatterpolar\"}],\"scatterpolargl\":[{\"marker\":{\"colorbar\":{\"outlinewidth\":0,\"ticks\":\"\"}},\"type\":\"scatterpolargl\"}],\"scatterternary\":[{\"marker\":{\"colorbar\":{\"outlinewidth\":0,\"ticks\":\"\"}},\"type\":\"scatterternary\"}],\"surface\":[{\"colorbar\":{\"outlinewidth\":0,\"ticks\":\"\"},\"colorscale\":[[0.0,\"#0d0887\"],[0.1111111111111111,\"#46039f\"],[0.2222222222222222,\"#7201a8\"],[0.3333333333333333,\"#9c179e\"],[0.4444444444444444,\"#bd3786\"],[0.5555555555555556,\"#d8576b\"],[0.6666666666666666,\"#ed7953\"],[0.7777777777777778,\"#fb9f3a\"],[0.8888888888888888,\"#fdca26\"],[1.0,\"#f0f921\"]],\"type\":\"surface\"}],\"table\":[{\"cells\":{\"fill\":{\"color\":\"#EBF0F8\"},\"line\":{\"color\":\"white\"}},\"header\":{\"fill\":{\"color\":\"#C8D4E3\"},\"line\":{\"color\":\"white\"}},\"type\":\"table\"}]},\"layout\":{\"annotationdefaults\":{\"arrowcolor\":\"#2a3f5f\",\"arrowhead\":0,\"arrowwidth\":1},\"autotypenumbers\":\"strict\",\"coloraxis\":{\"colorbar\":{\"outlinewidth\":0,\"ticks\":\"\"}},\"colorscale\":{\"diverging\":[[0,\"#8e0152\"],[0.1,\"#c51b7d\"],[0.2,\"#de77ae\"],[0.3,\"#f1b6da\"],[0.4,\"#fde0ef\"],[0.5,\"#f7f7f7\"],[0.6,\"#e6f5d0\"],[0.7,\"#b8e186\"],[0.8,\"#7fbc41\"],[0.9,\"#4d9221\"],[1,\"#276419\"]],\"sequential\":[[0.0,\"#0d0887\"],[0.1111111111111111,\"#46039f\"],[0.2222222222222222,\"#7201a8\"],[0.3333333333333333,\"#9c179e\"],[0.4444444444444444,\"#bd3786\"],[0.5555555555555556,\"#d8576b\"],[0.6666666666666666,\"#ed7953\"],[0.7777777777777778,\"#fb9f3a\"],[0.8888888888888888,\"#fdca26\"],[1.0,\"#f0f921\"]],\"sequentialminus\":[[0.0,\"#0d0887\"],[0.1111111111111111,\"#46039f\"],[0.2222222222222222,\"#7201a8\"],[0.3333333333333333,\"#9c179e\"],[0.4444444444444444,\"#bd3786\"],[0.5555555555555556,\"#d8576b\"],[0.6666666666666666,\"#ed7953\"],[0.7777777777777778,\"#fb9f3a\"],[0.8888888888888888,\"#fdca26\"],[1.0,\"#f0f921\"]]},\"colorway\":[\"#636efa\",\"#EF553B\",\"#00cc96\",\"#ab63fa\",\"#FFA15A\",\"#19d3f3\",\"#FF6692\",\"#B6E880\",\"#FF97FF\",\"#FECB52\"],\"font\":{\"color\":\"#2a3f5f\"},\"geo\":{\"bgcolor\":\"white\",\"lakecolor\":\"white\",\"landcolor\":\"#E5ECF6\",\"showlakes\":true,\"showland\":true,\"subunitcolor\":\"white\"},\"hoverlabel\":{\"align\":\"left\"},\"hovermode\":\"closest\",\"mapbox\":{\"style\":\"light\"},\"paper_bgcolor\":\"white\",\"plot_bgcolor\":\"#E5ECF6\",\"polar\":{\"angularaxis\":{\"gridcolor\":\"white\",\"linecolor\":\"white\",\"ticks\":\"\"},\"bgcolor\":\"#E5ECF6\",\"radialaxis\":{\"gridcolor\":\"white\",\"linecolor\":\"white\",\"ticks\":\"\"}},\"scene\":{\"xaxis\":{\"backgroundcolor\":\"#E5ECF6\",\"gridcolor\":\"white\",\"gridwidth\":2,\"linecolor\":\"white\",\"showbackground\":true,\"ticks\":\"\",\"zerolinecolor\":\"white\"},\"yaxis\":{\"backgroundcolor\":\"#E5ECF6\",\"gridcolor\":\"white\",\"gridwidth\":2,\"linecolor\":\"white\",\"showbackground\":true,\"ticks\":\"\",\"zerolinecolor\":\"white\"},\"zaxis\":{\"backgroundcolor\":\"#E5ECF6\",\"gridcolor\":\"white\",\"gridwidth\":2,\"linecolor\":\"white\",\"showbackground\":true,\"ticks\":\"\",\"zerolinecolor\":\"white\"}},\"shapedefaults\":{\"line\":{\"color\":\"#2a3f5f\"}},\"ternary\":{\"aaxis\":{\"gridcolor\":\"white\",\"linecolor\":\"white\",\"ticks\":\"\"},\"baxis\":{\"gridcolor\":\"white\",\"linecolor\":\"white\",\"ticks\":\"\"},\"bgcolor\":\"#E5ECF6\",\"caxis\":{\"gridcolor\":\"white\",\"linecolor\":\"white\",\"ticks\":\"\"}},\"title\":{\"x\":0.05},\"xaxis\":{\"automargin\":true,\"gridcolor\":\"white\",\"linecolor\":\"white\",\"ticks\":\"\",\"title\":{\"standoff\":15},\"zerolinecolor\":\"white\",\"zerolinewidth\":2},\"yaxis\":{\"automargin\":true,\"gridcolor\":\"white\",\"linecolor\":\"white\",\"ticks\":\"\",\"title\":{\"standoff\":15},\"zerolinecolor\":\"white\",\"zerolinewidth\":2}}},\"width\":600,\"xaxis\":{\"anchor\":\"y\",\"categoryarray\":[\"Minority_class\",\"Majority_class\"],\"categoryorder\":\"array\",\"domain\":[0.0,1.0],\"title\":{\"text\":\"Class_name\"}},\"yaxis\":{\"anchor\":\"x\",\"domain\":[0.0,1.0],\"title\":{\"text\":\"Count\"}}},                        {\"responsive\": true}                    ).then(function(){\n",
       "                            \n",
       "var gd = document.getElementById('0ea78e6a-821d-4d26-add8-2388cc92ef29');\n",
       "var x = new MutationObserver(function (mutations, observer) {{\n",
       "        var display = window.getComputedStyle(gd).display;\n",
       "        if (!display || display === 'none') {{\n",
       "            console.log([gd, 'removed!']);\n",
       "            Plotly.purge(gd);\n",
       "            observer.disconnect();\n",
       "        }}\n",
       "}});\n",
       "\n",
       "// Listen for the removal of the full notebook cells\n",
       "var notebookContainer = gd.closest('#notebook-container');\n",
       "if (notebookContainer) {{\n",
       "    x.observe(notebookContainer, {childList: true});\n",
       "}}\n",
       "\n",
       "// Listen for the clearing of the current output cell\n",
       "var outputEl = gd.closest('.output');\n",
       "if (outputEl) {{\n",
       "    x.observe(outputEl, {childList: true});\n",
       "}}\n",
       "\n",
       "                        })                };                });            </script>        </div>"
      ]
     },
     "metadata": {},
     "output_type": "display_data"
    },
    {
     "ename": "NameError",
     "evalue": "name 'py' is not defined",
     "output_type": "error",
     "traceback": [
      "\u001b[0;31m---------------------------------------------------------------------------\u001b[0m",
      "\u001b[0;31mNameError\u001b[0m                                 Traceback (most recent call last)",
      "\u001b[0;32m/tmp/ipykernel_14242/131157099.py\u001b[0m in \u001b[0;36m<module>\u001b[0;34m\u001b[0m\n\u001b[1;32m      8\u001b[0m \u001b[0mfig2\u001b[0m\u001b[0;34m.\u001b[0m\u001b[0mshow\u001b[0m\u001b[0;34m(\u001b[0m\u001b[0;34m)\u001b[0m\u001b[0;34m\u001b[0m\u001b[0;34m\u001b[0m\u001b[0m\n\u001b[1;32m      9\u001b[0m \u001b[0;34m\u001b[0m\u001b[0m\n\u001b[0;32m---> 10\u001b[0;31m \u001b[0mpy\u001b[0m\u001b[0;34m.\u001b[0m\u001b[0miplot\u001b[0m\u001b[0;34m(\u001b[0m\u001b[0mfig2\u001b[0m\u001b[0;34m)\u001b[0m\u001b[0;34m\u001b[0m\u001b[0;34m\u001b[0m\u001b[0m\n\u001b[0m",
      "\u001b[0;31mNameError\u001b[0m: name 'py' is not defined"
     ]
    }
   ],
   "source": [
    "#- we check out the new counts plot\n",
    "y_train_oversample_df = pd.DataFrame(pd.DataFrame(y_train_oversample).value_counts()).reset_index(drop = True).sort_values(by = 0)\n",
    "y_train_oversample_df[\"Class_name\"] = [\"Minority_class\",\"Majority_class\"]\n",
    "y_train_oversample_df.columns = [\"Count\", \"Class_name\"]\n",
    "\n",
    "#- plot the graphs\n",
    "fig2 = px.bar(y_train_oversample_df, x=\"Class_name\", y=\"Count\", color = \"Class_name\", width = 600)\n",
    "fig2.show()\n",
    "\n",
    "py.iplot(fig2)"
   ]
  },
  {
   "cell_type": "code",
   "execution_count": 6,
   "id": "35934d46",
   "metadata": {},
   "outputs": [
    {
     "data": {
      "application/vnd.plotly.v1+json": {
       "config": {
        "plotlyServerURL": "https://plot.ly"
       },
       "data": [
        {
         "colorscale": [
          [
           0,
           "rgb(103,0,31)"
          ],
          [
           0.1,
           "rgb(178,24,43)"
          ],
          [
           0.2,
           "rgb(214,96,77)"
          ],
          [
           0.3,
           "rgb(244,165,130)"
          ],
          [
           0.4,
           "rgb(253,219,199)"
          ],
          [
           0.5,
           "rgb(247,247,247)"
          ],
          [
           0.6,
           "rgb(209,229,240)"
          ],
          [
           0.7,
           "rgb(146,197,222)"
          ],
          [
           0.8,
           "rgb(67,147,195)"
          ],
          [
           0.9,
           "rgb(33,102,172)"
          ],
          [
           1,
           "rgb(5,48,97)"
          ]
         ],
         "hoverongaps": false,
         "type": "heatmap",
         "x": [
          "V1",
          "V2",
          "V3",
          "V4",
          "V5",
          "V6",
          "V7",
          "V8",
          "V9",
          "V10",
          "V11",
          "V12",
          "V13",
          "V14",
          "V15",
          "V16",
          "V17",
          "V18",
          "V19",
          "V20",
          "V21",
          "V22",
          "V23",
          "V24",
          "V25",
          "V26",
          "V27",
          "V28",
          "robustscaled_amount"
         ],
         "y": [
          "V1",
          "V2",
          "V3",
          "V4",
          "V5",
          "V6",
          "V7",
          "V8",
          "V9",
          "V10",
          "V11",
          "V12",
          "V13",
          "V14",
          "V15",
          "V16",
          "V17",
          "V18",
          "V19",
          "V20",
          "V21",
          "V22",
          "V23",
          "V24",
          "V25",
          "V26",
          "V27",
          "V28",
          "robustscaled_amount"
         ],
         "z": [
          [
           1,
           -0.8180933904378029,
           0.8903793147813927,
           -0.6095199537117657,
           0.8836883067172875,
           0.34001886134893894,
           0.8923290616951597,
           -0.11396958892204948,
           0.6601285441610777,
           0.7437552361015881,
           -0.5170324988758888,
           0.5869673019044879,
           -0.06858699754885976,
           0.4235395829046345,
           0.13852577841752664,
           0.6422799873075167,
           0.6834406519117757,
           0.6931536624403496,
           -0.32317563825608314,
           -0.3091079024883726,
           -0.029504167027059446,
           0.006698783103473006,
           -0.03636362624566962,
           -0.13112539377162905,
           -0.13782120425761885,
           0.10353584713748143,
           0.2647324407561798,
           0.13675314522455362,
           -0.04017525587313715
          ],
          [
           -0.8180933904378029,
           1,
           -0.8700467336405722,
           0.6765698926263864,
           -0.8124004227671,
           -0.2889941433595349,
           -0.8626816386064513,
           -0.00022685043443630189,
           -0.6982601936880526,
           -0.7697692251955129,
           0.6120994638619109,
           -0.660795888332762,
           0.03795401488025139,
           -0.5473354327680938,
           -0.17959813812415884,
           -0.6415051416044156,
           -0.6547575339505499,
           -0.6425604373902135,
           0.24227599494312058,
           0.28675864320215966,
           0.08672768243639523,
           -0.049344409265843735,
           0.1474420939958129,
           0.05488850679199695,
           0.16487749379968666,
           -0.04861205935687503,
           -0.21836189785242774,
           0.026595495079032628,
           -0.22948328274128585
          ],
          [
           0.8903793147813927,
           -0.8700467336405722,
           1,
           -0.7651786221557991,
           0.8769001401848441,
           0.47624796192778546,
           0.896599627717585,
           -0.19796432322002422,
           0.7654455477275268,
           0.8554893575957951,
           -0.7007170169169364,
           0.7500432482655283,
           -0.08366505192555575,
           0.6307890644080711,
           0.16555736811434188,
           0.7284509285956443,
           0.7462591170857258,
           0.7192208319894153,
           -0.3358421723192316,
           -0.3563975062663536,
           -0.006535177377024721,
           -0.024709319764730574,
           -0.0012268777369921608,
           -0.06406388095351667,
           -0.15511744767161198,
           0.03193325365597211,
           0.19849615580496452,
           0.07749699072367132,
           -0.019806042753839775
          ],
          [
           -0.6095199537117657,
           0.6765698926263864,
           -0.7651786221557991,
           1,
           -0.5946738646515302,
           -0.4690375745076657,
           -0.7089115221685437,
           0.1300623446547904,
           -0.7936413426782511,
           -0.8101154573715731,
           0.7965175980881528,
           -0.8424731966434472,
           0.04499673034173153,
           -0.8007631024272287,
           -0.13293168699193952,
           -0.7393649367868544,
           -0.7309112222018405,
           -0.6661842377454213,
           0.32740332776260084,
           0.2831146623613314,
           0.015870570945101865,
           0.08324086178426092,
           -0.0023303872416343308,
           -0.010487453188909195,
           0.043737819680407464,
           0.10404756659125107,
           -0.11256893448705176,
           -0.0024041047938444856,
           0.009408897997102051
          ],
          [
           0.8836883067172875,
           -0.8124004227671,
           0.8769001401848441,
           -0.5946738646515302,
           1,
           0.34051137851815866,
           0.8592733420434625,
           -0.2388156398219377,
           0.6788142360549496,
           0.7720478420220805,
           -0.5373034675555642,
           0.6269940525598517,
           -0.14266623157852437,
           0.42891037258904474,
           0.10762353134314541,
           0.7055207156104929,
           0.7593765312558455,
           0.7647830394752916,
           -0.42245377670489465,
           -0.32335055007856506,
           0.01327393060081171,
           -0.058730726844967274,
           -0.023959862028475044,
           -0.18622619000557739,
           -0.13522061184633768,
           0.10040569639706537,
           0.24042879380707913,
           0.13375928071037513,
           -0.11488298451979316
          ],
          [
           0.34001886134893894,
           -0.2889941433595349,
           0.47624796192778546,
           -0.4690375745076657,
           0.34051137851815866,
           1,
           0.2872347804585972,
           -0.6022610589819671,
           0.39279801813060033,
           0.42702694571022487,
           -0.5102165358956383,
           0.513530724024536,
           -0.16013327413625966,
           0.5346119572621931,
           -0.06764291133821354,
           0.44015278221366627,
           0.44654654495938473,
           0.37855297121919557,
           -0.2596205894738481,
           -0.13756403590537825,
           0.06998523282706431,
           -0.049395569943129054,
           0.36579622587178084,
           -0.05017391928512418,
           -0.1792882969763761,
           -0.062304516154075285,
           -0.13411195277355675,
           -0.004425553413360684,
           0.13964647442582886
          ],
          [
           0.8923290616951597,
           -0.8626816386064513,
           0.896599627717585,
           -0.7089115221685437,
           0.8592733420434625,
           0.2872347804585972,
           1,
           0.06640391888318375,
           0.7713114467759504,
           0.8702047530043318,
           -0.6259836555711249,
           0.7135743927830724,
           -0.031258452515639676,
           0.5247068724689794,
           0.19818210025486616,
           0.748355198463549,
           0.7730915480964399,
           0.773850777470064,
           -0.3653654653122992,
           -0.3529658704666441,
           -0.01478619582565381,
           -0.07337235402725491,
           -0.12933314539826518,
           -0.10887866480854422,
           -0.009001408269168535,
           0.06957908513738371,
           0.329516283479625,
           0.13273987401733298,
           0.11367319260539138
          ],
          [
           -0.11396958892204948,
           -0.00022685043443630189,
           -0.19796432322002422,
           0.1300623446547904,
           -0.2388156398219377,
           -0.6022610589819671,
           0.06640391888318375,
           1,
           -0.10168050345622907,
           -0.0659608498478438,
           0.18027738922738812,
           -0.17833948603314162,
           0.31799639337095453,
           -0.18602984764276173,
           0.16986528036967904,
           -0.1812416410007373,
           -0.2387379330892082,
           -0.19633961289165872,
           0.24272820781371013,
           0.03385817759630957,
           -0.19488923945745856,
           0.09986246382750451,
           -0.5453673510882492,
           0.10332604837038159,
           0.2637012676855558,
           0.05348459586877703,
           0.29016388436819324,
           -0.018747953364391022,
           0.03085830146138212
          ],
          [
           0.6601285441610777,
           -0.6982601936880526,
           0.7654455477275268,
           -0.7936413426782511,
           0.6788142360549496,
           0.39279801813060033,
           0.7713114467759504,
           -0.10168050345622907,
           1,
           0.8651313580729822,
           -0.6971993986662404,
           0.7772685439836182,
           -0.054527859592066394,
           0.668120926113245,
           0.15209758640898557,
           0.7414406920404285,
           0.7766888932846725,
           0.7340668299178447,
           -0.35584882527495704,
           -0.37171287523415125,
           0.13380467053092965,
           -0.2269970547844573,
           -0.02535370133903793,
           -0.06344069228530955,
           -0.02815620264036201,
           -0.07500321942338546,
           0.2350122143850538,
           0.1321693189603327,
           0.011696609468644517
          ],
          [
           0.7437552361015881,
           -0.7697692251955129,
           0.8554893575957951,
           -0.8101154573715731,
           0.7720478420220805,
           0.42702694571022487,
           0.8702047530043318,
           -0.0659608498478438,
           0.8651313580729822,
           1,
           -0.7930537661470399,
           0.8806230728192066,
           -0.060949008673413636,
           0.7374270157397892,
           0.15857707373490962,
           0.8556038029683062,
           0.860544919350009,
           0.8162373180673101,
           -0.4417412543996287,
           -0.3667984049940668,
           0.058679846340388996,
           -0.1957271709993113,
           -0.04887114797172433,
           -0.06940323526593355,
           0.006909031882280574,
           -0.0103483810106542,
           0.26784699569777476,
           0.12747501870604497,
           -0.017421139048082943
          ],
          [
           -0.5170324988758888,
           0.6120994638619109,
           -0.7007170169169364,
           0.7965175980881528,
           -0.5373034675555642,
           -0.5102165358956383,
           -0.6259836555711249,
           0.18027738922738812,
           -0.6971993986662404,
           -0.7930537661470399,
           1,
           -0.8990540856626034,
           0.06548480210791002,
           -0.8947115598569891,
           -0.04251052044325405,
           -0.8148435950176596,
           -0.7833362169458468,
           -0.6886453006099466,
           0.4369686408557521,
           0.18733169984504883,
           0.18080782300443096,
           -0.01739751113342658,
           -0.03117594220261945,
           -0.05872557853775202,
           0.0695493845082681,
           0.1497202632021162,
           0.09485574772241956,
           0.1134005027895381,
           -0.003957455540245722
          ],
          [
           0.5869673019044879,
           -0.660795888332762,
           0.7500432482655283,
           -0.8424731966434472,
           0.6269940525598517,
           0.513530724024536,
           0.7135743927830724,
           -0.17833948603314162,
           0.7772685439836182,
           0.8806230728192066,
           -0.8990540856626034,
           1,
           -0.09810883421413645,
           0.8799970093236616,
           0.060356363869615015,
           0.9049539619499268,
           0.8838768787594391,
           0.8111941635315065,
           -0.4979721322337122,
           -0.21161850983753494,
           -0.0995901874233684,
           -0.09163597087287283,
           0.0196760187711191,
           -0.017179737155545296,
           0.004245141976609561,
           -0.10954592981804548,
           0.06617808354096213,
           -0.03759987301602769,
           0.007578703627092938
          ],
          [
           -0.06858699754885976,
           0.03795401488025139,
           -0.08366505192555575,
           0.04499673034173153,
           -0.14266623157852437,
           -0.16013327413625966,
           -0.031258452515639676,
           0.31799639337095453,
           -0.054527859592066394,
           -0.060949008673413636,
           0.06548480210791002,
           -0.09810883421413645,
           1,
           -0.03096459362634666,
           -0.007852498780250825,
           -0.13539740342576903,
           -0.16088673034048803,
           -0.16665142896838592,
           0.18271811464593551,
           -0.05029107460372475,
           -0.006809401185098322,
           0.0060393902108128806,
           -0.17330978455716708,
           0.07572481556704161,
           0.0393523528254825,
           0.027523993131645098,
           0.05333949411145285,
           -0.08113028028400822,
           -5.7487026808261035e-05
          ],
          [
           0.4235395829046345,
           -0.5473354327680938,
           0.6307890644080711,
           -0.8007631024272287,
           0.42891037258904474,
           0.5346119572621931,
           0.5247068724689794,
           -0.18602984764276173,
           0.668120926113245,
           0.7374270157397892,
           -0.8947115598569891,
           0.8799970093236616,
           -0.03096459362634666,
           1,
           -0.019267192121189144,
           0.7777466115486253,
           0.7353222133170301,
           0.6303748757931549,
           -0.3921999181024966,
           -0.1030543501445444,
           -0.25663239330459586,
           0.09334252414205198,
           0.031919654261446065,
           0.09716387983776208,
           -0.10971113478666004,
           -0.17261634613950613,
           -0.1417482742344732,
           -0.18693014146636597,
           0.020575260251862466
          ],
          [
           0.13852577841752664,
           -0.17959813812415884,
           0.16555736811434188,
           -0.13293168699193952,
           0.10762353134314541,
           -0.06764291133821354,
           0.19818210025486616,
           0.16986528036967904,
           0.15209758640898557,
           0.15857707373490962,
           -0.04251052044325405,
           0.060356363869615015,
           -0.007852498780250825,
           -0.019267192121189144,
           1,
           -0.010957306244195867,
           0.02103625357328607,
           0.022249669872386777,
           0.22041218478500704,
           -0.18097085217060324,
           0.15899941021847627,
           -0.0982481201348661,
           -0.08654420567820818,
           0.009795727957240385,
           -0.023432718674534385,
           0.06218215895098781,
           0.21379212195231165,
           0.1294357442753251,
           0.03832669606154943
          ],
          [
           0.6422799873075167,
           -0.6415051416044156,
           0.7284509285956443,
           -0.7393649367868544,
           0.7055207156104929,
           0.44015278221366627,
           0.748355198463549,
           -0.1812416410007373,
           0.7414406920404285,
           0.8556038029683062,
           -0.8148435950176596,
           0.9049539619499268,
           -0.13539740342576903,
           0.7777466115486253,
           -0.010957306244195867,
           1,
           0.9557030250664368,
           0.9131119102709688,
           -0.6550774039045474,
           -0.17767425493940192,
           -0.17917696527264612,
           -0.06660753218068771,
           -0.005449232892626255,
           -0.09803797759379393,
           0.03964132476498208,
           -0.04876841989850965,
           0.05432485587606572,
           -0.007513688293566538,
           -0.030403756779881438
          ],
          [
           0.6834406519117757,
           -0.6547575339505499,
           0.7462591170857258,
           -0.7309112222018405,
           0.7593765312558455,
           0.44654654495938473,
           0.7730915480964399,
           -0.2387379330892082,
           0.7766888932846725,
           0.860544919350009,
           -0.7833362169458468,
           0.8838768787594391,
           -0.16088673034048803,
           0.7353222133170301,
           0.02103625357328607,
           0.9557030250664368,
           1,
           0.9447466060921051,
           -0.6305584078756309,
           -0.20910667606809752,
           -0.11474183969324145,
           -0.0980653637674353,
           0.030110607387525044,
           -0.1337845640813849,
           0.008064059560915405,
           -0.0321923998033616,
           0.07222324981659019,
           0.03666762806837756,
           -0.027531961509130932
          ],
          [
           0.6931536624403496,
           -0.6425604373902135,
           0.7192208319894153,
           -0.6661842377454213,
           0.7647830394752916,
           0.37855297121919557,
           0.773850777470064,
           -0.19633961289165872,
           0.7340668299178447,
           0.8162373180673101,
           -0.6886453006099466,
           0.8111941635315065,
           -0.16665142896838592,
           0.6303748757931549,
           0.022249669872386777,
           0.9131119102709688,
           0.9447466060921051,
           1,
           -0.600002254679265,
           -0.18551451890557516,
           -0.10544999779314375,
           -0.09183003456836712,
           0.01737153339660093,
           -0.1588636942066061,
           0.03302365490020779,
           0.0002472075231199384,
           0.1289680619862063,
           0.07814046989777665,
           -0.016735236919469747
          ],
          [
           -0.32317563825608314,
           0.24227599494312058,
           -0.3358421723192316,
           0.32740332776260084,
           -0.42245377670489465,
           -0.2596205894738481,
           -0.3653654653122992,
           0.24272820781371013,
           -0.35584882527495704,
           -0.4417412543996287,
           0.4369686408557521,
           -0.4979721322337122,
           0.18271811464593551,
           -0.3921999181024966,
           0.22041218478500704,
           -0.6550774039045474,
           -0.6305584078756309,
           -0.600002254679265,
           1,
           0.041375230009532735,
           0.1337324445723754,
           0.10556322762506073,
           -0.0330366756155715,
           0.14366562904948954,
           -0.16075270008467804,
           0.062050325584821125,
           0.03240705241954842,
           -0.029368654587448,
           0.06421084585223412
          ],
          [
           -0.3091079024883726,
           0.28675864320215966,
           -0.3563975062663536,
           0.2831146623613314,
           -0.32335055007856506,
           -0.13756403590537825,
           -0.3529658704666441,
           0.03385817759630957,
           -0.37171287523415125,
           -0.3667984049940668,
           0.18733169984504883,
           -0.21161850983753494,
           -0.05029107460372475,
           -0.1030543501445444,
           -0.18097085217060324,
           -0.17767425493940192,
           -0.20910667606809752,
           -0.18551451890557516,
           0.041375230009532735,
           1,
           -0.5213666656192014,
           0.4312910471010396,
           0.058460616257307654,
           -0.004308690560612864,
           0.026372958767610182,
           -0.015858833846601268,
           -0.17558364877435562,
           -0.03528761961954173,
           0.23041370646824524
          ],
          [
           -0.029504167027059446,
           0.08672768243639523,
           -0.006535177377024721,
           0.015870570945101865,
           0.01327393060081171,
           0.06998523282706431,
           -0.01478619582565381,
           -0.19488923945745856,
           0.13380467053092965,
           0.058679846340388996,
           0.18080782300443096,
           -0.0995901874233684,
           -0.006809401185098322,
           -0.25663239330459586,
           0.15899941021847627,
           -0.17917696527264612,
           -0.11474183969324145,
           -0.10544999779314375,
           0.1337324445723754,
           -0.5213666656192014,
           1,
           -0.7772978680998549,
           0.21361462068689066,
           -0.0761938833812644,
           0.13437631033982447,
           0.050052528707435595,
           0.4129061519405808,
           0.30513149442256365,
           0.025820567904791078
          ],
          [
           0.006698783103473006,
           -0.049344409265843735,
           -0.024709319764730574,
           0.08324086178426092,
           -0.058730726844967274,
           -0.049395569943129054,
           -0.07337235402725491,
           0.09986246382750451,
           -0.2269970547844573,
           -0.1957271709993113,
           -0.01739751113342658,
           -0.09163597087287283,
           0.0060393902108128806,
           0.09334252414205198,
           -0.0982481201348661,
           -0.06660753218068771,
           -0.0980653637674353,
           -0.09183003456836712,
           0.10556322762506073,
           0.4312910471010396,
           -0.7772978680998549,
           1,
           -0.08815848037921455,
           0.10084959454816178,
           -0.25855044634862956,
           -0.004509658810836244,
           -0.4328651179190682,
           -0.28195159596300906,
           -0.01960170742077492
          ],
          [
           -0.03636362624566962,
           0.1474420939958129,
           -0.0012268777369921608,
           -0.0023303872416343308,
           -0.023959862028475044,
           0.36579622587178084,
           -0.12933314539826518,
           -0.5453673510882492,
           -0.02535370133903793,
           -0.04887114797172433,
           -0.03117594220261945,
           0.0196760187711191,
           -0.17330978455716708,
           0.031919654261446065,
           -0.08654420567820818,
           -0.005449232892626255,
           0.030110607387525044,
           0.01737153339660093,
           -0.0330366756155715,
           0.058460616257307654,
           0.21361462068689066,
           -0.08815848037921455,
           1,
           -0.04287810597705859,
           -0.045242736985005076,
           -0.013315656192521803,
           -0.18388878085329927,
           0.09444084802479173,
           -0.1238928885693014
          ],
          [
           -0.13112539377162905,
           0.05488850679199695,
           -0.06406388095351667,
           -0.010487453188909195,
           -0.18622619000557739,
           -0.05017391928512418,
           -0.10887866480854422,
           0.10332604837038159,
           -0.06344069228530955,
           -0.06940323526593355,
           -0.05872557853775202,
           -0.017179737155545296,
           0.07572481556704161,
           0.09716387983776208,
           0.009795727957240385,
           -0.09803797759379393,
           -0.1337845640813849,
           -0.1588636942066061,
           0.14366562904948954,
           -0.004308690560612864,
           -0.0761938833812644,
           0.10084959454816178,
           -0.04287810597705859,
           1,
           -0.07477679932842082,
           -0.09192352719309,
           -0.17098425091966923,
           -0.12046840672119444,
           0.020745118548919146
          ],
          [
           -0.13782120425761885,
           0.16487749379968666,
           -0.15511744767161198,
           0.043737819680407464,
           -0.13522061184633768,
           -0.1792882969763761,
           -0.009001408269168535,
           0.2637012676855558,
           -0.02815620264036201,
           0.006909031882280574,
           0.0695493845082681,
           0.004245141976609561,
           0.0393523528254825,
           -0.10971113478666004,
           -0.023432718674534385,
           0.03964132476498208,
           0.008064059560915405,
           0.03302365490020779,
           -0.16075270008467804,
           0.026372958767610182,
           0.13437631033982447,
           -0.25855044634862956,
           -0.045242736985005076,
           -0.07477679932842082,
           1,
           0.03964110857276512,
           0.25700055339636796,
           0.17960254579314433,
           -0.06669889132233056
          ],
          [
           0.10353584713748143,
           -0.04861205935687503,
           0.03193325365597211,
           0.10404756659125107,
           0.10040569639706537,
           -0.062304516154075285,
           0.06957908513738371,
           0.05348459586877703,
           -0.07500321942338546,
           -0.0103483810106542,
           0.1497202632021162,
           -0.10954592981804548,
           0.027523993131645098,
           -0.17261634613950613,
           0.06218215895098781,
           -0.04876841989850965,
           -0.0321923998033616,
           0.0002472075231199384,
           0.062050325584821125,
           -0.015858833846601268,
           0.050052528707435595,
           -0.004509658810836244,
           -0.013315656192521803,
           -0.09192352719309,
           0.03964110857276512,
           1,
           0.1761844635062029,
           0.06977412415235434,
           -0.021152670056117283
          ],
          [
           0.2647324407561798,
           -0.21836189785242774,
           0.19849615580496452,
           -0.11256893448705176,
           0.24042879380707913,
           -0.13411195277355675,
           0.329516283479625,
           0.29016388436819324,
           0.2350122143850538,
           0.26784699569777476,
           0.09485574772241956,
           0.06617808354096213,
           0.05333949411145285,
           -0.1417482742344732,
           0.21379212195231165,
           0.05432485587606572,
           0.07222324981659019,
           0.1289680619862063,
           0.03240705241954842,
           -0.17558364877435562,
           0.4129061519405808,
           -0.4328651179190682,
           -0.18388878085329927,
           -0.17098425091966923,
           0.25700055339636796,
           0.1761844635062029,
           1,
           0.38417928459308953,
           0.07040792879297195
          ],
          [
           0.13675314522455362,
           0.026595495079032628,
           0.07749699072367132,
           -0.0024041047938444856,
           0.13375928071037513,
           -0.004425553413360684,
           0.13273987401733298,
           -0.018747953364391022,
           0.1321693189603327,
           0.12747501870604497,
           0.1134005027895381,
           -0.03759987301602769,
           -0.08113028028400822,
           -0.18693014146636597,
           0.1294357442753251,
           -0.007513688293566538,
           0.03666762806837756,
           0.07814046989777665,
           -0.029368654587448,
           -0.03528761961954173,
           0.30513149442256365,
           -0.28195159596300906,
           0.09444084802479173,
           -0.12046840672119444,
           0.17960254579314433,
           0.06977412415235434,
           0.38417928459308953,
           1,
           -0.03055539511609793
          ],
          [
           -0.04017525587313715,
           -0.22948328274128585,
           -0.019806042753839775,
           0.009408897997102051,
           -0.11488298451979316,
           0.13964647442582886,
           0.11367319260539138,
           0.03085830146138212,
           0.011696609468644517,
           -0.017421139048082943,
           -0.003957455540245722,
           0.007578703627092938,
           -5.7487026808261035e-05,
           0.020575260251862466,
           0.03832669606154943,
           -0.030403756779881438,
           -0.027531961509130932,
           -0.016735236919469747,
           0.06421084585223412,
           0.23041370646824524,
           0.025820567904791078,
           -0.01960170742077492,
           -0.1238928885693014,
           0.020745118548919146,
           -0.06669889132233056,
           -0.021152670056117283,
           0.07040792879297195,
           -0.03055539511609793,
           1
          ]
         ]
        }
       ],
       "layout": {
        "template": {
         "data": {
          "bar": [
           {
            "error_x": {
             "color": "#2a3f5f"
            },
            "error_y": {
             "color": "#2a3f5f"
            },
            "marker": {
             "line": {
              "color": "#E5ECF6",
              "width": 0.5
             },
             "pattern": {
              "fillmode": "overlay",
              "size": 10,
              "solidity": 0.2
             }
            },
            "type": "bar"
           }
          ],
          "barpolar": [
           {
            "marker": {
             "line": {
              "color": "#E5ECF6",
              "width": 0.5
             },
             "pattern": {
              "fillmode": "overlay",
              "size": 10,
              "solidity": 0.2
             }
            },
            "type": "barpolar"
           }
          ],
          "carpet": [
           {
            "aaxis": {
             "endlinecolor": "#2a3f5f",
             "gridcolor": "white",
             "linecolor": "white",
             "minorgridcolor": "white",
             "startlinecolor": "#2a3f5f"
            },
            "baxis": {
             "endlinecolor": "#2a3f5f",
             "gridcolor": "white",
             "linecolor": "white",
             "minorgridcolor": "white",
             "startlinecolor": "#2a3f5f"
            },
            "type": "carpet"
           }
          ],
          "choropleth": [
           {
            "colorbar": {
             "outlinewidth": 0,
             "ticks": ""
            },
            "type": "choropleth"
           }
          ],
          "contour": [
           {
            "colorbar": {
             "outlinewidth": 0,
             "ticks": ""
            },
            "colorscale": [
             [
              0,
              "#0d0887"
             ],
             [
              0.1111111111111111,
              "#46039f"
             ],
             [
              0.2222222222222222,
              "#7201a8"
             ],
             [
              0.3333333333333333,
              "#9c179e"
             ],
             [
              0.4444444444444444,
              "#bd3786"
             ],
             [
              0.5555555555555556,
              "#d8576b"
             ],
             [
              0.6666666666666666,
              "#ed7953"
             ],
             [
              0.7777777777777778,
              "#fb9f3a"
             ],
             [
              0.8888888888888888,
              "#fdca26"
             ],
             [
              1,
              "#f0f921"
             ]
            ],
            "type": "contour"
           }
          ],
          "contourcarpet": [
           {
            "colorbar": {
             "outlinewidth": 0,
             "ticks": ""
            },
            "type": "contourcarpet"
           }
          ],
          "heatmap": [
           {
            "colorbar": {
             "outlinewidth": 0,
             "ticks": ""
            },
            "colorscale": [
             [
              0,
              "#0d0887"
             ],
             [
              0.1111111111111111,
              "#46039f"
             ],
             [
              0.2222222222222222,
              "#7201a8"
             ],
             [
              0.3333333333333333,
              "#9c179e"
             ],
             [
              0.4444444444444444,
              "#bd3786"
             ],
             [
              0.5555555555555556,
              "#d8576b"
             ],
             [
              0.6666666666666666,
              "#ed7953"
             ],
             [
              0.7777777777777778,
              "#fb9f3a"
             ],
             [
              0.8888888888888888,
              "#fdca26"
             ],
             [
              1,
              "#f0f921"
             ]
            ],
            "type": "heatmap"
           }
          ],
          "heatmapgl": [
           {
            "colorbar": {
             "outlinewidth": 0,
             "ticks": ""
            },
            "colorscale": [
             [
              0,
              "#0d0887"
             ],
             [
              0.1111111111111111,
              "#46039f"
             ],
             [
              0.2222222222222222,
              "#7201a8"
             ],
             [
              0.3333333333333333,
              "#9c179e"
             ],
             [
              0.4444444444444444,
              "#bd3786"
             ],
             [
              0.5555555555555556,
              "#d8576b"
             ],
             [
              0.6666666666666666,
              "#ed7953"
             ],
             [
              0.7777777777777778,
              "#fb9f3a"
             ],
             [
              0.8888888888888888,
              "#fdca26"
             ],
             [
              1,
              "#f0f921"
             ]
            ],
            "type": "heatmapgl"
           }
          ],
          "histogram": [
           {
            "marker": {
             "pattern": {
              "fillmode": "overlay",
              "size": 10,
              "solidity": 0.2
             }
            },
            "type": "histogram"
           }
          ],
          "histogram2d": [
           {
            "colorbar": {
             "outlinewidth": 0,
             "ticks": ""
            },
            "colorscale": [
             [
              0,
              "#0d0887"
             ],
             [
              0.1111111111111111,
              "#46039f"
             ],
             [
              0.2222222222222222,
              "#7201a8"
             ],
             [
              0.3333333333333333,
              "#9c179e"
             ],
             [
              0.4444444444444444,
              "#bd3786"
             ],
             [
              0.5555555555555556,
              "#d8576b"
             ],
             [
              0.6666666666666666,
              "#ed7953"
             ],
             [
              0.7777777777777778,
              "#fb9f3a"
             ],
             [
              0.8888888888888888,
              "#fdca26"
             ],
             [
              1,
              "#f0f921"
             ]
            ],
            "type": "histogram2d"
           }
          ],
          "histogram2dcontour": [
           {
            "colorbar": {
             "outlinewidth": 0,
             "ticks": ""
            },
            "colorscale": [
             [
              0,
              "#0d0887"
             ],
             [
              0.1111111111111111,
              "#46039f"
             ],
             [
              0.2222222222222222,
              "#7201a8"
             ],
             [
              0.3333333333333333,
              "#9c179e"
             ],
             [
              0.4444444444444444,
              "#bd3786"
             ],
             [
              0.5555555555555556,
              "#d8576b"
             ],
             [
              0.6666666666666666,
              "#ed7953"
             ],
             [
              0.7777777777777778,
              "#fb9f3a"
             ],
             [
              0.8888888888888888,
              "#fdca26"
             ],
             [
              1,
              "#f0f921"
             ]
            ],
            "type": "histogram2dcontour"
           }
          ],
          "mesh3d": [
           {
            "colorbar": {
             "outlinewidth": 0,
             "ticks": ""
            },
            "type": "mesh3d"
           }
          ],
          "parcoords": [
           {
            "line": {
             "colorbar": {
              "outlinewidth": 0,
              "ticks": ""
             }
            },
            "type": "parcoords"
           }
          ],
          "pie": [
           {
            "automargin": true,
            "type": "pie"
           }
          ],
          "scatter": [
           {
            "marker": {
             "colorbar": {
              "outlinewidth": 0,
              "ticks": ""
             }
            },
            "type": "scatter"
           }
          ],
          "scatter3d": [
           {
            "line": {
             "colorbar": {
              "outlinewidth": 0,
              "ticks": ""
             }
            },
            "marker": {
             "colorbar": {
              "outlinewidth": 0,
              "ticks": ""
             }
            },
            "type": "scatter3d"
           }
          ],
          "scattercarpet": [
           {
            "marker": {
             "colorbar": {
              "outlinewidth": 0,
              "ticks": ""
             }
            },
            "type": "scattercarpet"
           }
          ],
          "scattergeo": [
           {
            "marker": {
             "colorbar": {
              "outlinewidth": 0,
              "ticks": ""
             }
            },
            "type": "scattergeo"
           }
          ],
          "scattergl": [
           {
            "marker": {
             "colorbar": {
              "outlinewidth": 0,
              "ticks": ""
             }
            },
            "type": "scattergl"
           }
          ],
          "scattermapbox": [
           {
            "marker": {
             "colorbar": {
              "outlinewidth": 0,
              "ticks": ""
             }
            },
            "type": "scattermapbox"
           }
          ],
          "scatterpolar": [
           {
            "marker": {
             "colorbar": {
              "outlinewidth": 0,
              "ticks": ""
             }
            },
            "type": "scatterpolar"
           }
          ],
          "scatterpolargl": [
           {
            "marker": {
             "colorbar": {
              "outlinewidth": 0,
              "ticks": ""
             }
            },
            "type": "scatterpolargl"
           }
          ],
          "scatterternary": [
           {
            "marker": {
             "colorbar": {
              "outlinewidth": 0,
              "ticks": ""
             }
            },
            "type": "scatterternary"
           }
          ],
          "surface": [
           {
            "colorbar": {
             "outlinewidth": 0,
             "ticks": ""
            },
            "colorscale": [
             [
              0,
              "#0d0887"
             ],
             [
              0.1111111111111111,
              "#46039f"
             ],
             [
              0.2222222222222222,
              "#7201a8"
             ],
             [
              0.3333333333333333,
              "#9c179e"
             ],
             [
              0.4444444444444444,
              "#bd3786"
             ],
             [
              0.5555555555555556,
              "#d8576b"
             ],
             [
              0.6666666666666666,
              "#ed7953"
             ],
             [
              0.7777777777777778,
              "#fb9f3a"
             ],
             [
              0.8888888888888888,
              "#fdca26"
             ],
             [
              1,
              "#f0f921"
             ]
            ],
            "type": "surface"
           }
          ],
          "table": [
           {
            "cells": {
             "fill": {
              "color": "#EBF0F8"
             },
             "line": {
              "color": "white"
             }
            },
            "header": {
             "fill": {
              "color": "#C8D4E3"
             },
             "line": {
              "color": "white"
             }
            },
            "type": "table"
           }
          ]
         },
         "layout": {
          "annotationdefaults": {
           "arrowcolor": "#2a3f5f",
           "arrowhead": 0,
           "arrowwidth": 1
          },
          "autotypenumbers": "strict",
          "coloraxis": {
           "colorbar": {
            "outlinewidth": 0,
            "ticks": ""
           }
          },
          "colorscale": {
           "diverging": [
            [
             0,
             "#8e0152"
            ],
            [
             0.1,
             "#c51b7d"
            ],
            [
             0.2,
             "#de77ae"
            ],
            [
             0.3,
             "#f1b6da"
            ],
            [
             0.4,
             "#fde0ef"
            ],
            [
             0.5,
             "#f7f7f7"
            ],
            [
             0.6,
             "#e6f5d0"
            ],
            [
             0.7,
             "#b8e186"
            ],
            [
             0.8,
             "#7fbc41"
            ],
            [
             0.9,
             "#4d9221"
            ],
            [
             1,
             "#276419"
            ]
           ],
           "sequential": [
            [
             0,
             "#0d0887"
            ],
            [
             0.1111111111111111,
             "#46039f"
            ],
            [
             0.2222222222222222,
             "#7201a8"
            ],
            [
             0.3333333333333333,
             "#9c179e"
            ],
            [
             0.4444444444444444,
             "#bd3786"
            ],
            [
             0.5555555555555556,
             "#d8576b"
            ],
            [
             0.6666666666666666,
             "#ed7953"
            ],
            [
             0.7777777777777778,
             "#fb9f3a"
            ],
            [
             0.8888888888888888,
             "#fdca26"
            ],
            [
             1,
             "#f0f921"
            ]
           ],
           "sequentialminus": [
            [
             0,
             "#0d0887"
            ],
            [
             0.1111111111111111,
             "#46039f"
            ],
            [
             0.2222222222222222,
             "#7201a8"
            ],
            [
             0.3333333333333333,
             "#9c179e"
            ],
            [
             0.4444444444444444,
             "#bd3786"
            ],
            [
             0.5555555555555556,
             "#d8576b"
            ],
            [
             0.6666666666666666,
             "#ed7953"
            ],
            [
             0.7777777777777778,
             "#fb9f3a"
            ],
            [
             0.8888888888888888,
             "#fdca26"
            ],
            [
             1,
             "#f0f921"
            ]
           ]
          },
          "colorway": [
           "#636efa",
           "#EF553B",
           "#00cc96",
           "#ab63fa",
           "#FFA15A",
           "#19d3f3",
           "#FF6692",
           "#B6E880",
           "#FF97FF",
           "#FECB52"
          ],
          "font": {
           "color": "#2a3f5f"
          },
          "geo": {
           "bgcolor": "white",
           "lakecolor": "white",
           "landcolor": "#E5ECF6",
           "showlakes": true,
           "showland": true,
           "subunitcolor": "white"
          },
          "hoverlabel": {
           "align": "left"
          },
          "hovermode": "closest",
          "mapbox": {
           "style": "light"
          },
          "paper_bgcolor": "white",
          "plot_bgcolor": "#E5ECF6",
          "polar": {
           "angularaxis": {
            "gridcolor": "white",
            "linecolor": "white",
            "ticks": ""
           },
           "bgcolor": "#E5ECF6",
           "radialaxis": {
            "gridcolor": "white",
            "linecolor": "white",
            "ticks": ""
           }
          },
          "scene": {
           "xaxis": {
            "backgroundcolor": "#E5ECF6",
            "gridcolor": "white",
            "gridwidth": 2,
            "linecolor": "white",
            "showbackground": true,
            "ticks": "",
            "zerolinecolor": "white"
           },
           "yaxis": {
            "backgroundcolor": "#E5ECF6",
            "gridcolor": "white",
            "gridwidth": 2,
            "linecolor": "white",
            "showbackground": true,
            "ticks": "",
            "zerolinecolor": "white"
           },
           "zaxis": {
            "backgroundcolor": "#E5ECF6",
            "gridcolor": "white",
            "gridwidth": 2,
            "linecolor": "white",
            "showbackground": true,
            "ticks": "",
            "zerolinecolor": "white"
           }
          },
          "shapedefaults": {
           "line": {
            "color": "#2a3f5f"
           }
          },
          "ternary": {
           "aaxis": {
            "gridcolor": "white",
            "linecolor": "white",
            "ticks": ""
           },
           "baxis": {
            "gridcolor": "white",
            "linecolor": "white",
            "ticks": ""
           },
           "bgcolor": "#E5ECF6",
           "caxis": {
            "gridcolor": "white",
            "linecolor": "white",
            "ticks": ""
           }
          },
          "title": {
           "x": 0.05
          },
          "xaxis": {
           "automargin": true,
           "gridcolor": "white",
           "linecolor": "white",
           "ticks": "",
           "title": {
            "standoff": 15
           },
           "zerolinecolor": "white",
           "zerolinewidth": 2
          },
          "yaxis": {
           "automargin": true,
           "gridcolor": "white",
           "linecolor": "white",
           "ticks": "",
           "title": {
            "standoff": 15
           },
           "zerolinecolor": "white",
           "zerolinewidth": 2
          }
         }
        }
       }
      },
      "text/html": [
       "<div>                            <div id=\"e175d541-002d-43c7-9f1d-d114ff1d5322\" class=\"plotly-graph-div\" style=\"height:525px; width:100%;\"></div>            <script type=\"text/javascript\">                require([\"plotly\"], function(Plotly) {                    window.PLOTLYENV=window.PLOTLYENV || {};                                    if (document.getElementById(\"e175d541-002d-43c7-9f1d-d114ff1d5322\")) {                    Plotly.newPlot(                        \"e175d541-002d-43c7-9f1d-d114ff1d5322\",                        [{\"colorscale\":[[0.0,\"rgb(103,0,31)\"],[0.1,\"rgb(178,24,43)\"],[0.2,\"rgb(214,96,77)\"],[0.3,\"rgb(244,165,130)\"],[0.4,\"rgb(253,219,199)\"],[0.5,\"rgb(247,247,247)\"],[0.6,\"rgb(209,229,240)\"],[0.7,\"rgb(146,197,222)\"],[0.8,\"rgb(67,147,195)\"],[0.9,\"rgb(33,102,172)\"],[1.0,\"rgb(5,48,97)\"]],\"hoverongaps\":false,\"type\":\"heatmap\",\"x\":[\"V1\",\"V2\",\"V3\",\"V4\",\"V5\",\"V6\",\"V7\",\"V8\",\"V9\",\"V10\",\"V11\",\"V12\",\"V13\",\"V14\",\"V15\",\"V16\",\"V17\",\"V18\",\"V19\",\"V20\",\"V21\",\"V22\",\"V23\",\"V24\",\"V25\",\"V26\",\"V27\",\"V28\",\"robustscaled_amount\"],\"y\":[\"V1\",\"V2\",\"V3\",\"V4\",\"V5\",\"V6\",\"V7\",\"V8\",\"V9\",\"V10\",\"V11\",\"V12\",\"V13\",\"V14\",\"V15\",\"V16\",\"V17\",\"V18\",\"V19\",\"V20\",\"V21\",\"V22\",\"V23\",\"V24\",\"V25\",\"V26\",\"V27\",\"V28\",\"robustscaled_amount\"],\"z\":[[1.0,-0.8180933904378029,0.8903793147813927,-0.6095199537117657,0.8836883067172875,0.34001886134893894,0.8923290616951597,-0.11396958892204948,0.6601285441610777,0.7437552361015881,-0.5170324988758888,0.5869673019044879,-0.06858699754885976,0.4235395829046345,0.13852577841752664,0.6422799873075167,0.6834406519117757,0.6931536624403496,-0.32317563825608314,-0.3091079024883726,-0.029504167027059446,0.006698783103473006,-0.03636362624566962,-0.13112539377162905,-0.13782120425761885,0.10353584713748143,0.2647324407561798,0.13675314522455362,-0.04017525587313715],[-0.8180933904378029,1.0,-0.8700467336405722,0.6765698926263864,-0.8124004227671,-0.2889941433595349,-0.8626816386064513,-0.00022685043443630189,-0.6982601936880526,-0.7697692251955129,0.6120994638619109,-0.660795888332762,0.03795401488025139,-0.5473354327680938,-0.17959813812415884,-0.6415051416044156,-0.6547575339505499,-0.6425604373902135,0.24227599494312058,0.28675864320215966,0.08672768243639523,-0.049344409265843735,0.1474420939958129,0.05488850679199695,0.16487749379968666,-0.04861205935687503,-0.21836189785242774,0.026595495079032628,-0.22948328274128585],[0.8903793147813927,-0.8700467336405722,1.0,-0.7651786221557991,0.8769001401848441,0.47624796192778546,0.896599627717585,-0.19796432322002422,0.7654455477275268,0.8554893575957951,-0.7007170169169364,0.7500432482655283,-0.08366505192555575,0.6307890644080711,0.16555736811434188,0.7284509285956443,0.7462591170857258,0.7192208319894153,-0.3358421723192316,-0.3563975062663536,-0.006535177377024721,-0.024709319764730574,-0.0012268777369921608,-0.06406388095351667,-0.15511744767161198,0.03193325365597211,0.19849615580496452,0.07749699072367132,-0.019806042753839775],[-0.6095199537117657,0.6765698926263864,-0.7651786221557991,1.0,-0.5946738646515302,-0.4690375745076657,-0.7089115221685437,0.1300623446547904,-0.7936413426782511,-0.8101154573715731,0.7965175980881528,-0.8424731966434472,0.04499673034173153,-0.8007631024272287,-0.13293168699193952,-0.7393649367868544,-0.7309112222018405,-0.6661842377454213,0.32740332776260084,0.2831146623613314,0.015870570945101865,0.08324086178426092,-0.0023303872416343308,-0.010487453188909195,0.043737819680407464,0.10404756659125107,-0.11256893448705176,-0.0024041047938444856,0.009408897997102051],[0.8836883067172875,-0.8124004227671,0.8769001401848441,-0.5946738646515302,1.0,0.34051137851815866,0.8592733420434625,-0.2388156398219377,0.6788142360549496,0.7720478420220805,-0.5373034675555642,0.6269940525598517,-0.14266623157852437,0.42891037258904474,0.10762353134314541,0.7055207156104929,0.7593765312558455,0.7647830394752916,-0.42245377670489465,-0.32335055007856506,0.01327393060081171,-0.058730726844967274,-0.023959862028475044,-0.18622619000557739,-0.13522061184633768,0.10040569639706537,0.24042879380707913,0.13375928071037513,-0.11488298451979316],[0.34001886134893894,-0.2889941433595349,0.47624796192778546,-0.4690375745076657,0.34051137851815866,1.0,0.2872347804585972,-0.6022610589819671,0.39279801813060033,0.42702694571022487,-0.5102165358956383,0.513530724024536,-0.16013327413625966,0.5346119572621931,-0.06764291133821354,0.44015278221366627,0.44654654495938473,0.37855297121919557,-0.2596205894738481,-0.13756403590537825,0.06998523282706431,-0.049395569943129054,0.36579622587178084,-0.05017391928512418,-0.1792882969763761,-0.062304516154075285,-0.13411195277355675,-0.004425553413360684,0.13964647442582886],[0.8923290616951597,-0.8626816386064513,0.896599627717585,-0.7089115221685437,0.8592733420434625,0.2872347804585972,1.0,0.06640391888318375,0.7713114467759504,0.8702047530043318,-0.6259836555711249,0.7135743927830724,-0.031258452515639676,0.5247068724689794,0.19818210025486616,0.748355198463549,0.7730915480964399,0.773850777470064,-0.3653654653122992,-0.3529658704666441,-0.01478619582565381,-0.07337235402725491,-0.12933314539826518,-0.10887866480854422,-0.009001408269168535,0.06957908513738371,0.329516283479625,0.13273987401733298,0.11367319260539138],[-0.11396958892204948,-0.00022685043443630189,-0.19796432322002422,0.1300623446547904,-0.2388156398219377,-0.6022610589819671,0.06640391888318375,1.0,-0.10168050345622907,-0.0659608498478438,0.18027738922738812,-0.17833948603314162,0.31799639337095453,-0.18602984764276173,0.16986528036967904,-0.1812416410007373,-0.2387379330892082,-0.19633961289165872,0.24272820781371013,0.03385817759630957,-0.19488923945745856,0.09986246382750451,-0.5453673510882492,0.10332604837038159,0.2637012676855558,0.05348459586877703,0.29016388436819324,-0.018747953364391022,0.03085830146138212],[0.6601285441610777,-0.6982601936880526,0.7654455477275268,-0.7936413426782511,0.6788142360549496,0.39279801813060033,0.7713114467759504,-0.10168050345622907,1.0,0.8651313580729822,-0.6971993986662404,0.7772685439836182,-0.054527859592066394,0.668120926113245,0.15209758640898557,0.7414406920404285,0.7766888932846725,0.7340668299178447,-0.35584882527495704,-0.37171287523415125,0.13380467053092965,-0.2269970547844573,-0.02535370133903793,-0.06344069228530955,-0.02815620264036201,-0.07500321942338546,0.2350122143850538,0.1321693189603327,0.011696609468644517],[0.7437552361015881,-0.7697692251955129,0.8554893575957951,-0.8101154573715731,0.7720478420220805,0.42702694571022487,0.8702047530043318,-0.0659608498478438,0.8651313580729822,1.0,-0.7930537661470399,0.8806230728192066,-0.060949008673413636,0.7374270157397892,0.15857707373490962,0.8556038029683062,0.860544919350009,0.8162373180673101,-0.4417412543996287,-0.3667984049940668,0.058679846340388996,-0.1957271709993113,-0.04887114797172433,-0.06940323526593355,0.006909031882280574,-0.0103483810106542,0.26784699569777476,0.12747501870604497,-0.017421139048082943],[-0.5170324988758888,0.6120994638619109,-0.7007170169169364,0.7965175980881528,-0.5373034675555642,-0.5102165358956383,-0.6259836555711249,0.18027738922738812,-0.6971993986662404,-0.7930537661470399,1.0,-0.8990540856626034,0.06548480210791002,-0.8947115598569891,-0.04251052044325405,-0.8148435950176596,-0.7833362169458468,-0.6886453006099466,0.4369686408557521,0.18733169984504883,0.18080782300443096,-0.01739751113342658,-0.03117594220261945,-0.05872557853775202,0.0695493845082681,0.1497202632021162,0.09485574772241956,0.1134005027895381,-0.003957455540245722],[0.5869673019044879,-0.660795888332762,0.7500432482655283,-0.8424731966434472,0.6269940525598517,0.513530724024536,0.7135743927830724,-0.17833948603314162,0.7772685439836182,0.8806230728192066,-0.8990540856626034,1.0,-0.09810883421413645,0.8799970093236616,0.060356363869615015,0.9049539619499268,0.8838768787594391,0.8111941635315065,-0.4979721322337122,-0.21161850983753494,-0.0995901874233684,-0.09163597087287283,0.0196760187711191,-0.017179737155545296,0.004245141976609561,-0.10954592981804548,0.06617808354096213,-0.03759987301602769,0.007578703627092938],[-0.06858699754885976,0.03795401488025139,-0.08366505192555575,0.04499673034173153,-0.14266623157852437,-0.16013327413625966,-0.031258452515639676,0.31799639337095453,-0.054527859592066394,-0.060949008673413636,0.06548480210791002,-0.09810883421413645,1.0,-0.03096459362634666,-0.007852498780250825,-0.13539740342576903,-0.16088673034048803,-0.16665142896838592,0.18271811464593551,-0.05029107460372475,-0.006809401185098322,0.0060393902108128806,-0.17330978455716708,0.07572481556704161,0.0393523528254825,0.027523993131645098,0.05333949411145285,-0.08113028028400822,-5.7487026808261035e-05],[0.4235395829046345,-0.5473354327680938,0.6307890644080711,-0.8007631024272287,0.42891037258904474,0.5346119572621931,0.5247068724689794,-0.18602984764276173,0.668120926113245,0.7374270157397892,-0.8947115598569891,0.8799970093236616,-0.03096459362634666,1.0,-0.019267192121189144,0.7777466115486253,0.7353222133170301,0.6303748757931549,-0.3921999181024966,-0.1030543501445444,-0.25663239330459586,0.09334252414205198,0.031919654261446065,0.09716387983776208,-0.10971113478666004,-0.17261634613950613,-0.1417482742344732,-0.18693014146636597,0.020575260251862466],[0.13852577841752664,-0.17959813812415884,0.16555736811434188,-0.13293168699193952,0.10762353134314541,-0.06764291133821354,0.19818210025486616,0.16986528036967904,0.15209758640898557,0.15857707373490962,-0.04251052044325405,0.060356363869615015,-0.007852498780250825,-0.019267192121189144,1.0,-0.010957306244195867,0.02103625357328607,0.022249669872386777,0.22041218478500704,-0.18097085217060324,0.15899941021847627,-0.0982481201348661,-0.08654420567820818,0.009795727957240385,-0.023432718674534385,0.06218215895098781,0.21379212195231165,0.1294357442753251,0.03832669606154943],[0.6422799873075167,-0.6415051416044156,0.7284509285956443,-0.7393649367868544,0.7055207156104929,0.44015278221366627,0.748355198463549,-0.1812416410007373,0.7414406920404285,0.8556038029683062,-0.8148435950176596,0.9049539619499268,-0.13539740342576903,0.7777466115486253,-0.010957306244195867,1.0,0.9557030250664368,0.9131119102709688,-0.6550774039045474,-0.17767425493940192,-0.17917696527264612,-0.06660753218068771,-0.005449232892626255,-0.09803797759379393,0.03964132476498208,-0.04876841989850965,0.05432485587606572,-0.007513688293566538,-0.030403756779881438],[0.6834406519117757,-0.6547575339505499,0.7462591170857258,-0.7309112222018405,0.7593765312558455,0.44654654495938473,0.7730915480964399,-0.2387379330892082,0.7766888932846725,0.860544919350009,-0.7833362169458468,0.8838768787594391,-0.16088673034048803,0.7353222133170301,0.02103625357328607,0.9557030250664368,1.0,0.9447466060921051,-0.6305584078756309,-0.20910667606809752,-0.11474183969324145,-0.0980653637674353,0.030110607387525044,-0.1337845640813849,0.008064059560915405,-0.0321923998033616,0.07222324981659019,0.03666762806837756,-0.027531961509130932],[0.6931536624403496,-0.6425604373902135,0.7192208319894153,-0.6661842377454213,0.7647830394752916,0.37855297121919557,0.773850777470064,-0.19633961289165872,0.7340668299178447,0.8162373180673101,-0.6886453006099466,0.8111941635315065,-0.16665142896838592,0.6303748757931549,0.022249669872386777,0.9131119102709688,0.9447466060921051,1.0,-0.600002254679265,-0.18551451890557516,-0.10544999779314375,-0.09183003456836712,0.01737153339660093,-0.1588636942066061,0.03302365490020779,0.0002472075231199384,0.1289680619862063,0.07814046989777665,-0.016735236919469747],[-0.32317563825608314,0.24227599494312058,-0.3358421723192316,0.32740332776260084,-0.42245377670489465,-0.2596205894738481,-0.3653654653122992,0.24272820781371013,-0.35584882527495704,-0.4417412543996287,0.4369686408557521,-0.4979721322337122,0.18271811464593551,-0.3921999181024966,0.22041218478500704,-0.6550774039045474,-0.6305584078756309,-0.600002254679265,1.0,0.041375230009532735,0.1337324445723754,0.10556322762506073,-0.0330366756155715,0.14366562904948954,-0.16075270008467804,0.062050325584821125,0.03240705241954842,-0.029368654587448,0.06421084585223412],[-0.3091079024883726,0.28675864320215966,-0.3563975062663536,0.2831146623613314,-0.32335055007856506,-0.13756403590537825,-0.3529658704666441,0.03385817759630957,-0.37171287523415125,-0.3667984049940668,0.18733169984504883,-0.21161850983753494,-0.05029107460372475,-0.1030543501445444,-0.18097085217060324,-0.17767425493940192,-0.20910667606809752,-0.18551451890557516,0.041375230009532735,1.0,-0.5213666656192014,0.4312910471010396,0.058460616257307654,-0.004308690560612864,0.026372958767610182,-0.015858833846601268,-0.17558364877435562,-0.03528761961954173,0.23041370646824524],[-0.029504167027059446,0.08672768243639523,-0.006535177377024721,0.015870570945101865,0.01327393060081171,0.06998523282706431,-0.01478619582565381,-0.19488923945745856,0.13380467053092965,0.058679846340388996,0.18080782300443096,-0.0995901874233684,-0.006809401185098322,-0.25663239330459586,0.15899941021847627,-0.17917696527264612,-0.11474183969324145,-0.10544999779314375,0.1337324445723754,-0.5213666656192014,1.0,-0.7772978680998549,0.21361462068689066,-0.0761938833812644,0.13437631033982447,0.050052528707435595,0.4129061519405808,0.30513149442256365,0.025820567904791078],[0.006698783103473006,-0.049344409265843735,-0.024709319764730574,0.08324086178426092,-0.058730726844967274,-0.049395569943129054,-0.07337235402725491,0.09986246382750451,-0.2269970547844573,-0.1957271709993113,-0.01739751113342658,-0.09163597087287283,0.0060393902108128806,0.09334252414205198,-0.0982481201348661,-0.06660753218068771,-0.0980653637674353,-0.09183003456836712,0.10556322762506073,0.4312910471010396,-0.7772978680998549,1.0,-0.08815848037921455,0.10084959454816178,-0.25855044634862956,-0.004509658810836244,-0.4328651179190682,-0.28195159596300906,-0.01960170742077492],[-0.03636362624566962,0.1474420939958129,-0.0012268777369921608,-0.0023303872416343308,-0.023959862028475044,0.36579622587178084,-0.12933314539826518,-0.5453673510882492,-0.02535370133903793,-0.04887114797172433,-0.03117594220261945,0.0196760187711191,-0.17330978455716708,0.031919654261446065,-0.08654420567820818,-0.005449232892626255,0.030110607387525044,0.01737153339660093,-0.0330366756155715,0.058460616257307654,0.21361462068689066,-0.08815848037921455,1.0,-0.04287810597705859,-0.045242736985005076,-0.013315656192521803,-0.18388878085329927,0.09444084802479173,-0.1238928885693014],[-0.13112539377162905,0.05488850679199695,-0.06406388095351667,-0.010487453188909195,-0.18622619000557739,-0.05017391928512418,-0.10887866480854422,0.10332604837038159,-0.06344069228530955,-0.06940323526593355,-0.05872557853775202,-0.017179737155545296,0.07572481556704161,0.09716387983776208,0.009795727957240385,-0.09803797759379393,-0.1337845640813849,-0.1588636942066061,0.14366562904948954,-0.004308690560612864,-0.0761938833812644,0.10084959454816178,-0.04287810597705859,1.0,-0.07477679932842082,-0.09192352719309,-0.17098425091966923,-0.12046840672119444,0.020745118548919146],[-0.13782120425761885,0.16487749379968666,-0.15511744767161198,0.043737819680407464,-0.13522061184633768,-0.1792882969763761,-0.009001408269168535,0.2637012676855558,-0.02815620264036201,0.006909031882280574,0.0695493845082681,0.004245141976609561,0.0393523528254825,-0.10971113478666004,-0.023432718674534385,0.03964132476498208,0.008064059560915405,0.03302365490020779,-0.16075270008467804,0.026372958767610182,0.13437631033982447,-0.25855044634862956,-0.045242736985005076,-0.07477679932842082,1.0,0.03964110857276512,0.25700055339636796,0.17960254579314433,-0.06669889132233056],[0.10353584713748143,-0.04861205935687503,0.03193325365597211,0.10404756659125107,0.10040569639706537,-0.062304516154075285,0.06957908513738371,0.05348459586877703,-0.07500321942338546,-0.0103483810106542,0.1497202632021162,-0.10954592981804548,0.027523993131645098,-0.17261634613950613,0.06218215895098781,-0.04876841989850965,-0.0321923998033616,0.0002472075231199384,0.062050325584821125,-0.015858833846601268,0.050052528707435595,-0.004509658810836244,-0.013315656192521803,-0.09192352719309,0.03964110857276512,1.0,0.1761844635062029,0.06977412415235434,-0.021152670056117283],[0.2647324407561798,-0.21836189785242774,0.19849615580496452,-0.11256893448705176,0.24042879380707913,-0.13411195277355675,0.329516283479625,0.29016388436819324,0.2350122143850538,0.26784699569777476,0.09485574772241956,0.06617808354096213,0.05333949411145285,-0.1417482742344732,0.21379212195231165,0.05432485587606572,0.07222324981659019,0.1289680619862063,0.03240705241954842,-0.17558364877435562,0.4129061519405808,-0.4328651179190682,-0.18388878085329927,-0.17098425091966923,0.25700055339636796,0.1761844635062029,1.0,0.38417928459308953,0.07040792879297195],[0.13675314522455362,0.026595495079032628,0.07749699072367132,-0.0024041047938444856,0.13375928071037513,-0.004425553413360684,0.13273987401733298,-0.018747953364391022,0.1321693189603327,0.12747501870604497,0.1134005027895381,-0.03759987301602769,-0.08113028028400822,-0.18693014146636597,0.1294357442753251,-0.007513688293566538,0.03666762806837756,0.07814046989777665,-0.029368654587448,-0.03528761961954173,0.30513149442256365,-0.28195159596300906,0.09444084802479173,-0.12046840672119444,0.17960254579314433,0.06977412415235434,0.38417928459308953,1.0,-0.03055539511609793],[-0.04017525587313715,-0.22948328274128585,-0.019806042753839775,0.009408897997102051,-0.11488298451979316,0.13964647442582886,0.11367319260539138,0.03085830146138212,0.011696609468644517,-0.017421139048082943,-0.003957455540245722,0.007578703627092938,-5.7487026808261035e-05,0.020575260251862466,0.03832669606154943,-0.030403756779881438,-0.027531961509130932,-0.016735236919469747,0.06421084585223412,0.23041370646824524,0.025820567904791078,-0.01960170742077492,-0.1238928885693014,0.020745118548919146,-0.06669889132233056,-0.021152670056117283,0.07040792879297195,-0.03055539511609793,1.0]]}],                        {\"template\":{\"data\":{\"bar\":[{\"error_x\":{\"color\":\"#2a3f5f\"},\"error_y\":{\"color\":\"#2a3f5f\"},\"marker\":{\"line\":{\"color\":\"#E5ECF6\",\"width\":0.5},\"pattern\":{\"fillmode\":\"overlay\",\"size\":10,\"solidity\":0.2}},\"type\":\"bar\"}],\"barpolar\":[{\"marker\":{\"line\":{\"color\":\"#E5ECF6\",\"width\":0.5},\"pattern\":{\"fillmode\":\"overlay\",\"size\":10,\"solidity\":0.2}},\"type\":\"barpolar\"}],\"carpet\":[{\"aaxis\":{\"endlinecolor\":\"#2a3f5f\",\"gridcolor\":\"white\",\"linecolor\":\"white\",\"minorgridcolor\":\"white\",\"startlinecolor\":\"#2a3f5f\"},\"baxis\":{\"endlinecolor\":\"#2a3f5f\",\"gridcolor\":\"white\",\"linecolor\":\"white\",\"minorgridcolor\":\"white\",\"startlinecolor\":\"#2a3f5f\"},\"type\":\"carpet\"}],\"choropleth\":[{\"colorbar\":{\"outlinewidth\":0,\"ticks\":\"\"},\"type\":\"choropleth\"}],\"contour\":[{\"colorbar\":{\"outlinewidth\":0,\"ticks\":\"\"},\"colorscale\":[[0.0,\"#0d0887\"],[0.1111111111111111,\"#46039f\"],[0.2222222222222222,\"#7201a8\"],[0.3333333333333333,\"#9c179e\"],[0.4444444444444444,\"#bd3786\"],[0.5555555555555556,\"#d8576b\"],[0.6666666666666666,\"#ed7953\"],[0.7777777777777778,\"#fb9f3a\"],[0.8888888888888888,\"#fdca26\"],[1.0,\"#f0f921\"]],\"type\":\"contour\"}],\"contourcarpet\":[{\"colorbar\":{\"outlinewidth\":0,\"ticks\":\"\"},\"type\":\"contourcarpet\"}],\"heatmap\":[{\"colorbar\":{\"outlinewidth\":0,\"ticks\":\"\"},\"colorscale\":[[0.0,\"#0d0887\"],[0.1111111111111111,\"#46039f\"],[0.2222222222222222,\"#7201a8\"],[0.3333333333333333,\"#9c179e\"],[0.4444444444444444,\"#bd3786\"],[0.5555555555555556,\"#d8576b\"],[0.6666666666666666,\"#ed7953\"],[0.7777777777777778,\"#fb9f3a\"],[0.8888888888888888,\"#fdca26\"],[1.0,\"#f0f921\"]],\"type\":\"heatmap\"}],\"heatmapgl\":[{\"colorbar\":{\"outlinewidth\":0,\"ticks\":\"\"},\"colorscale\":[[0.0,\"#0d0887\"],[0.1111111111111111,\"#46039f\"],[0.2222222222222222,\"#7201a8\"],[0.3333333333333333,\"#9c179e\"],[0.4444444444444444,\"#bd3786\"],[0.5555555555555556,\"#d8576b\"],[0.6666666666666666,\"#ed7953\"],[0.7777777777777778,\"#fb9f3a\"],[0.8888888888888888,\"#fdca26\"],[1.0,\"#f0f921\"]],\"type\":\"heatmapgl\"}],\"histogram\":[{\"marker\":{\"pattern\":{\"fillmode\":\"overlay\",\"size\":10,\"solidity\":0.2}},\"type\":\"histogram\"}],\"histogram2d\":[{\"colorbar\":{\"outlinewidth\":0,\"ticks\":\"\"},\"colorscale\":[[0.0,\"#0d0887\"],[0.1111111111111111,\"#46039f\"],[0.2222222222222222,\"#7201a8\"],[0.3333333333333333,\"#9c179e\"],[0.4444444444444444,\"#bd3786\"],[0.5555555555555556,\"#d8576b\"],[0.6666666666666666,\"#ed7953\"],[0.7777777777777778,\"#fb9f3a\"],[0.8888888888888888,\"#fdca26\"],[1.0,\"#f0f921\"]],\"type\":\"histogram2d\"}],\"histogram2dcontour\":[{\"colorbar\":{\"outlinewidth\":0,\"ticks\":\"\"},\"colorscale\":[[0.0,\"#0d0887\"],[0.1111111111111111,\"#46039f\"],[0.2222222222222222,\"#7201a8\"],[0.3333333333333333,\"#9c179e\"],[0.4444444444444444,\"#bd3786\"],[0.5555555555555556,\"#d8576b\"],[0.6666666666666666,\"#ed7953\"],[0.7777777777777778,\"#fb9f3a\"],[0.8888888888888888,\"#fdca26\"],[1.0,\"#f0f921\"]],\"type\":\"histogram2dcontour\"}],\"mesh3d\":[{\"colorbar\":{\"outlinewidth\":0,\"ticks\":\"\"},\"type\":\"mesh3d\"}],\"parcoords\":[{\"line\":{\"colorbar\":{\"outlinewidth\":0,\"ticks\":\"\"}},\"type\":\"parcoords\"}],\"pie\":[{\"automargin\":true,\"type\":\"pie\"}],\"scatter\":[{\"marker\":{\"colorbar\":{\"outlinewidth\":0,\"ticks\":\"\"}},\"type\":\"scatter\"}],\"scatter3d\":[{\"line\":{\"colorbar\":{\"outlinewidth\":0,\"ticks\":\"\"}},\"marker\":{\"colorbar\":{\"outlinewidth\":0,\"ticks\":\"\"}},\"type\":\"scatter3d\"}],\"scattercarpet\":[{\"marker\":{\"colorbar\":{\"outlinewidth\":0,\"ticks\":\"\"}},\"type\":\"scattercarpet\"}],\"scattergeo\":[{\"marker\":{\"colorbar\":{\"outlinewidth\":0,\"ticks\":\"\"}},\"type\":\"scattergeo\"}],\"scattergl\":[{\"marker\":{\"colorbar\":{\"outlinewidth\":0,\"ticks\":\"\"}},\"type\":\"scattergl\"}],\"scattermapbox\":[{\"marker\":{\"colorbar\":{\"outlinewidth\":0,\"ticks\":\"\"}},\"type\":\"scattermapbox\"}],\"scatterpolar\":[{\"marker\":{\"colorbar\":{\"outlinewidth\":0,\"ticks\":\"\"}},\"type\":\"scatterpolar\"}],\"scatterpolargl\":[{\"marker\":{\"colorbar\":{\"outlinewidth\":0,\"ticks\":\"\"}},\"type\":\"scatterpolargl\"}],\"scatterternary\":[{\"marker\":{\"colorbar\":{\"outlinewidth\":0,\"ticks\":\"\"}},\"type\":\"scatterternary\"}],\"surface\":[{\"colorbar\":{\"outlinewidth\":0,\"ticks\":\"\"},\"colorscale\":[[0.0,\"#0d0887\"],[0.1111111111111111,\"#46039f\"],[0.2222222222222222,\"#7201a8\"],[0.3333333333333333,\"#9c179e\"],[0.4444444444444444,\"#bd3786\"],[0.5555555555555556,\"#d8576b\"],[0.6666666666666666,\"#ed7953\"],[0.7777777777777778,\"#fb9f3a\"],[0.8888888888888888,\"#fdca26\"],[1.0,\"#f0f921\"]],\"type\":\"surface\"}],\"table\":[{\"cells\":{\"fill\":{\"color\":\"#EBF0F8\"},\"line\":{\"color\":\"white\"}},\"header\":{\"fill\":{\"color\":\"#C8D4E3\"},\"line\":{\"color\":\"white\"}},\"type\":\"table\"}]},\"layout\":{\"annotationdefaults\":{\"arrowcolor\":\"#2a3f5f\",\"arrowhead\":0,\"arrowwidth\":1},\"autotypenumbers\":\"strict\",\"coloraxis\":{\"colorbar\":{\"outlinewidth\":0,\"ticks\":\"\"}},\"colorscale\":{\"diverging\":[[0,\"#8e0152\"],[0.1,\"#c51b7d\"],[0.2,\"#de77ae\"],[0.3,\"#f1b6da\"],[0.4,\"#fde0ef\"],[0.5,\"#f7f7f7\"],[0.6,\"#e6f5d0\"],[0.7,\"#b8e186\"],[0.8,\"#7fbc41\"],[0.9,\"#4d9221\"],[1,\"#276419\"]],\"sequential\":[[0.0,\"#0d0887\"],[0.1111111111111111,\"#46039f\"],[0.2222222222222222,\"#7201a8\"],[0.3333333333333333,\"#9c179e\"],[0.4444444444444444,\"#bd3786\"],[0.5555555555555556,\"#d8576b\"],[0.6666666666666666,\"#ed7953\"],[0.7777777777777778,\"#fb9f3a\"],[0.8888888888888888,\"#fdca26\"],[1.0,\"#f0f921\"]],\"sequentialminus\":[[0.0,\"#0d0887\"],[0.1111111111111111,\"#46039f\"],[0.2222222222222222,\"#7201a8\"],[0.3333333333333333,\"#9c179e\"],[0.4444444444444444,\"#bd3786\"],[0.5555555555555556,\"#d8576b\"],[0.6666666666666666,\"#ed7953\"],[0.7777777777777778,\"#fb9f3a\"],[0.8888888888888888,\"#fdca26\"],[1.0,\"#f0f921\"]]},\"colorway\":[\"#636efa\",\"#EF553B\",\"#00cc96\",\"#ab63fa\",\"#FFA15A\",\"#19d3f3\",\"#FF6692\",\"#B6E880\",\"#FF97FF\",\"#FECB52\"],\"font\":{\"color\":\"#2a3f5f\"},\"geo\":{\"bgcolor\":\"white\",\"lakecolor\":\"white\",\"landcolor\":\"#E5ECF6\",\"showlakes\":true,\"showland\":true,\"subunitcolor\":\"white\"},\"hoverlabel\":{\"align\":\"left\"},\"hovermode\":\"closest\",\"mapbox\":{\"style\":\"light\"},\"paper_bgcolor\":\"white\",\"plot_bgcolor\":\"#E5ECF6\",\"polar\":{\"angularaxis\":{\"gridcolor\":\"white\",\"linecolor\":\"white\",\"ticks\":\"\"},\"bgcolor\":\"#E5ECF6\",\"radialaxis\":{\"gridcolor\":\"white\",\"linecolor\":\"white\",\"ticks\":\"\"}},\"scene\":{\"xaxis\":{\"backgroundcolor\":\"#E5ECF6\",\"gridcolor\":\"white\",\"gridwidth\":2,\"linecolor\":\"white\",\"showbackground\":true,\"ticks\":\"\",\"zerolinecolor\":\"white\"},\"yaxis\":{\"backgroundcolor\":\"#E5ECF6\",\"gridcolor\":\"white\",\"gridwidth\":2,\"linecolor\":\"white\",\"showbackground\":true,\"ticks\":\"\",\"zerolinecolor\":\"white\"},\"zaxis\":{\"backgroundcolor\":\"#E5ECF6\",\"gridcolor\":\"white\",\"gridwidth\":2,\"linecolor\":\"white\",\"showbackground\":true,\"ticks\":\"\",\"zerolinecolor\":\"white\"}},\"shapedefaults\":{\"line\":{\"color\":\"#2a3f5f\"}},\"ternary\":{\"aaxis\":{\"gridcolor\":\"white\",\"linecolor\":\"white\",\"ticks\":\"\"},\"baxis\":{\"gridcolor\":\"white\",\"linecolor\":\"white\",\"ticks\":\"\"},\"bgcolor\":\"#E5ECF6\",\"caxis\":{\"gridcolor\":\"white\",\"linecolor\":\"white\",\"ticks\":\"\"}},\"title\":{\"x\":0.05},\"xaxis\":{\"automargin\":true,\"gridcolor\":\"white\",\"linecolor\":\"white\",\"ticks\":\"\",\"title\":{\"standoff\":15},\"zerolinecolor\":\"white\",\"zerolinewidth\":2},\"yaxis\":{\"automargin\":true,\"gridcolor\":\"white\",\"linecolor\":\"white\",\"ticks\":\"\",\"title\":{\"standoff\":15},\"zerolinecolor\":\"white\",\"zerolinewidth\":2}}}},                        {\"responsive\": true}                    ).then(function(){\n",
       "                            \n",
       "var gd = document.getElementById('e175d541-002d-43c7-9f1d-d114ff1d5322');\n",
       "var x = new MutationObserver(function (mutations, observer) {{\n",
       "        var display = window.getComputedStyle(gd).display;\n",
       "        if (!display || display === 'none') {{\n",
       "            console.log([gd, 'removed!']);\n",
       "            Plotly.purge(gd);\n",
       "            observer.disconnect();\n",
       "        }}\n",
       "}});\n",
       "\n",
       "// Listen for the removal of the full notebook cells\n",
       "var notebookContainer = gd.closest('#notebook-container');\n",
       "if (notebookContainer) {{\n",
       "    x.observe(notebookContainer, {childList: true});\n",
       "}}\n",
       "\n",
       "// Listen for the clearing of the current output cell\n",
       "var outputEl = gd.closest('.output');\n",
       "if (outputEl) {{\n",
       "    x.observe(outputEl, {childList: true});\n",
       "}}\n",
       "\n",
       "                        })                };                });            </script>        </div>"
      ]
     },
     "metadata": {},
     "output_type": "display_data"
    }
   ],
   "source": [
    "#- plot correlation plots on the oversampled training data\n",
    "corr_heatmap(X_train_oversample)"
   ]
  }
 ],
 "metadata": {
  "kernelspec": {
   "display_name": "Python 3 (ipykernel)",
   "language": "python",
   "name": "python3"
  },
  "language_info": {
   "codemirror_mode": {
    "name": "ipython",
    "version": 3
   },
   "file_extension": ".py",
   "mimetype": "text/x-python",
   "name": "python",
   "nbconvert_exporter": "python",
   "pygments_lexer": "ipython3",
   "version": "3.9.5"
  }
 },
 "nbformat": 4,
 "nbformat_minor": 5
}
